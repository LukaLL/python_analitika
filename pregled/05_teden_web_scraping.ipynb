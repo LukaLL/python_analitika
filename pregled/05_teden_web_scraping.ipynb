{
 "cells": [
  {
   "cell_type": "code",
   "execution_count": 1,
   "metadata": {},
   "outputs": [],
   "source": [
    "import pandas as pd"
   ]
  },
  {
   "cell_type": "markdown",
   "metadata": {},
   "source": [
    "# Web scraping - pridobivanje podatkov s spleta\n"
   ]
  },
  {
   "cell_type": "markdown",
   "metadata": {},
   "source": [
    "## What Is Web Scraping?"
   ]
  },
  {
   "cell_type": "markdown",
   "metadata": {},
   "source": [
    "<img class=\"progressiveMedia-image js-progressiveMedia-image\" data-src=\"https://cdn-images-1.medium.com/max/1600/1*GOyqaID2x1N5lD_rhTDKVQ.png\" src=\"https://cdn-images-1.medium.com/max/1600/1*GOyqaID2x1N5lD_rhTDKVQ.png\">"
   ]
  },
  {
   "cell_type": "markdown",
   "metadata": {},
   "source": [
    "### Why Web Scraping for Data Science?"
   ]
  },
  {
   "cell_type": "markdown",
   "metadata": {},
   "source": [
    "## Network complexity"
   ]
  },
  {
   "cell_type": "markdown",
   "metadata": {},
   "source": [
    "## HTTP"
   ]
  },
  {
   "cell_type": "markdown",
   "metadata": {},
   "source": [
    "## HTTP in Python: The Requests Library"
   ]
  },
  {
   "cell_type": "markdown",
   "metadata": {},
   "source": [
    "[Requests: HTTP for Humans](https://2.python-requests.org/en/master/)"
   ]
  },
  {
   "cell_type": "markdown",
   "metadata": {},
   "source": [
    "V pythonu uporabljamo knjiznico requests."
   ]
  },
  {
   "cell_type": "code",
   "execution_count": 3,
   "metadata": {},
   "outputs": [],
   "source": [
    "import requests"
   ]
  },
  {
   "cell_type": "code",
   "execution_count": 4,
   "metadata": {},
   "outputs": [
    {
     "data": {
      "text/plain": [
       "<Response [200]>"
      ]
     },
     "execution_count": 4,
     "metadata": {},
     "output_type": "execute_result"
    }
   ],
   "source": [
    "url = 'http://example.com/'\n",
    "r = requests.get(url)\n",
    "r"
   ]
  },
  {
   "cell_type": "code",
   "execution_count": 5,
   "metadata": {},
   "outputs": [
    {
     "data": {
      "text/plain": [
       "requests.models.Response"
      ]
     },
     "execution_count": 5,
     "metadata": {},
     "output_type": "execute_result"
    }
   ],
   "source": [
    "type(r)"
   ]
  },
  {
   "cell_type": "code",
   "execution_count": 6,
   "metadata": {},
   "outputs": [
    {
     "data": {
      "text/plain": [
       "'<!doctype html>\\n<html>\\n<head>\\n    <title>Example Domain</title>\\n\\n    <meta charset=\"utf-8\" />\\n    <meta http-equiv=\"Content-type\" content=\"text/html; charset=utf-8\" />\\n    <meta name=\"viewport\" content=\"width=device-width, initial-scale=1\" />\\n    <style type=\"text/css\">\\n    body {\\n        background-color: #f0f0f2;\\n        margin: 0;\\n        padding: 0;\\n        font-family: \"Open Sans\", \"Helvetica Neue\", Helvetica, Arial, sans-serif;\\n        \\n    }\\n    div {\\n        width: 600px;\\n        margin: 5em auto;\\n        padding: 50px;\\n        background-color: #fff;\\n        border-radius: 1em;\\n    }\\n    a:link, a:visited {\\n        color: #38488f;\\n        text-decoration: none;\\n    }\\n    @media (max-width: 700px) {\\n        body {\\n            background-color: #fff;\\n        }\\n        div {\\n            width: auto;\\n            margin: 0 auto;\\n            border-radius: 0;\\n            padding: 1em;\\n        }\\n    }\\n    </style>    \\n</head>\\n\\n<body>\\n<div>\\n    <h1>Example Domain</h1>\\n    <p>This domain is established to be used for illustrative examples in documents. You may use this\\n    domain in examples without prior coordination or asking for permission.</p>\\n    <p><a href=\"http://www.iana.org/domains/example\">More information...</a></p>\\n</div>\\n</body>\\n</html>\\n'"
      ]
     },
     "execution_count": 6,
     "metadata": {},
     "output_type": "execute_result"
    }
   ],
   "source": [
    "r.text"
   ]
  },
  {
   "cell_type": "code",
   "execution_count": 7,
   "metadata": {},
   "outputs": [
    {
     "data": {
      "text/plain": [
       "200"
      ]
     },
     "execution_count": 7,
     "metadata": {},
     "output_type": "execute_result"
    }
   ],
   "source": [
    "#pogledamo, če je bilo pridobivanje kode uspešno\n",
    "#če je 200, je bilo OK\n",
    "r.status_code"
   ]
  },
  {
   "cell_type": "code",
   "execution_count": 8,
   "metadata": {},
   "outputs": [
    {
     "data": {
      "text/plain": [
       "'OK'"
      ]
     },
     "execution_count": 8,
     "metadata": {},
     "output_type": "execute_result"
    }
   ],
   "source": [
    "r.reason"
   ]
  },
  {
   "cell_type": "code",
   "execution_count": 9,
   "metadata": {},
   "outputs": [
    {
     "data": {
      "text/plain": [
       "{'Content-Encoding': 'gzip', 'Accept-Ranges': 'bytes', 'Cache-Control': 'max-age=604800', 'Content-Type': 'text/html; charset=UTF-8', 'Date': 'Wed, 22 May 2019 17:40:58 GMT', 'Etag': '\"1541025663+gzip\"', 'Expires': 'Wed, 29 May 2019 17:40:58 GMT', 'Last-Modified': 'Fri, 09 Aug 2013 23:54:35 GMT', 'Server': 'ECS (dcb/7ECB)', 'Vary': 'Accept-Encoding', 'X-Cache': 'HIT', 'Content-Length': '606'}"
      ]
     },
     "execution_count": 9,
     "metadata": {},
     "output_type": "execute_result"
    }
   ],
   "source": [
    "r.headers"
   ]
  },
  {
   "cell_type": "code",
   "execution_count": 10,
   "metadata": {},
   "outputs": [
    {
     "data": {
      "text/plain": [
       "<PreparedRequest [GET]>"
      ]
     },
     "execution_count": 10,
     "metadata": {},
     "output_type": "execute_result"
    }
   ],
   "source": [
    "r.request"
   ]
  },
  {
   "cell_type": "code",
   "execution_count": 12,
   "metadata": {},
   "outputs": [
    {
     "data": {
      "text/plain": [
       "{'User-Agent': 'python-requests/2.21.0', 'Accept-Encoding': 'gzip, deflate', 'Accept': '*/*', 'Connection': 'keep-alive'}"
      ]
     },
     "execution_count": 12,
     "metadata": {},
     "output_type": "execute_result"
    }
   ],
   "source": [
    "#vidiš, da je bil zahtevek poslan iz pythona\n",
    "r.request.headers"
   ]
  },
  {
   "cell_type": "markdown",
   "metadata": {},
   "source": [
    "## HTML and CSS"
   ]
  },
  {
   "cell_type": "markdown",
   "metadata": {},
   "source": [
    "<img class=\"progressiveMedia-image js-progressiveMedia-image\" data-src=\"https://cdn-images-1.medium.com/max/1600/1*x9mxFBXnLU05iPy19dGj7g.png\" src=\"https://cdn-images-1.medium.com/max/1600/1*x9mxFBXnLU05iPy19dGj7g.png\">"
   ]
  },
  {
   "cell_type": "markdown",
   "metadata": {},
   "source": [
    "### Hypertext Markup Language: HTML"
   ]
  },
  {
   "cell_type": "markdown",
   "metadata": {},
   "source": [
    "Link strani: https://en.wikipedia.org/w/index.php?title=List_of_Game_of_Thrones_episodes&oldid=802553687"
   ]
  },
  {
   "cell_type": "code",
   "execution_count": 5,
   "metadata": {},
   "outputs": [],
   "source": [
    "url_got = 'https://en.wikipedia.org/w/index.php?title=List_of_Game_of_Thrones_episodes&oldid=802553687'"
   ]
  },
  {
   "cell_type": "code",
   "execution_count": 6,
   "metadata": {},
   "outputs": [],
   "source": [
    "r = requests.get(url_got)"
   ]
  },
  {
   "cell_type": "markdown",
   "metadata": {},
   "source": [
    "- `<p>...</p>` to enclose a paragraph;\n",
    "- `<br>` to set a line break;\n",
    "- `<table>...</table>` to start a table block, inside; `<tr>...<tr/>` is used for the rows; and `<td>...</td>` cells;\n",
    "- `<img>` for images;\n",
    "- `<h1>...</h1> to <h6>...</h6>` for headers;\n",
    "- `<div>...</div>` to indicate a “division” in an HTML document, basically used to group a set of elements;\n",
    "- `<a>...</a>` for hyperlinks;\n",
    "- `<ul>...</ul>, <ol>...</ol>` for unordered and ordered lists respectively; inside of these, `<li>...</li>` is used for each list item."
   ]
  },
  {
   "cell_type": "markdown",
   "metadata": {},
   "source": [
    "## Using Your Browser as a Development Tool"
   ]
  },
  {
   "cell_type": "markdown",
   "metadata": {},
   "source": [
    "## The Beautiful Soup Library"
   ]
  },
  {
   "cell_type": "code",
   "execution_count": 10,
   "metadata": {},
   "outputs": [],
   "source": [
    "html_cont = r.text"
   ]
  },
  {
   "cell_type": "markdown",
   "metadata": {},
   "source": [
    "> **[beautifulsoup4](https://www.crummy.com/software/BeautifulSoup/bs4/doc/)**: Beautiful Soup tries to organize complexity: it helps to parse, structure and organize the oftentimes very messy web by fixing bad HTML and presenting us with an easy-to-work-with Python structure."
   ]
  },
  {
   "cell_type": "code",
   "execution_count": 8,
   "metadata": {},
   "outputs": [],
   "source": [
    "from bs4 import BeautifulSoup"
   ]
  },
  {
   "cell_type": "code",
   "execution_count": 11,
   "metadata": {},
   "outputs": [],
   "source": [
    "html_soup = BeautifulSoup(html_cont, 'html.parser')"
   ]
  },
  {
   "cell_type": "markdown",
   "metadata": {},
   "source": [
    "In Python, multiple parsers exist to do so:\n",
    "- `html.parser`: a built-in Python parser that is decent (especially when using recent versions of Python 3) and requires no extra installation.\n",
    "- `lxml`: which is very fast but requires an extra installation.\n",
    "- `html5lib`: which aims to parse web page in exactly the same way as a web browser does, but is a bit slower."
   ]
  },
  {
   "cell_type": "markdown",
   "metadata": {},
   "source": [
    "- `find(name, attrs, recursive, string, **keywords)`\n",
    "    - najde samo prvi element\n",
    "- `find_all(name, attrs, recursive, string, limit, **keywords)`\n",
    "    - najde vse elemente"
   ]
  },
  {
   "cell_type": "code",
   "execution_count": 12,
   "metadata": {},
   "outputs": [
    {
     "data": {
      "text/plain": [
       "<h1 class=\"firstHeading\" id=\"firstHeading\" lang=\"en\">List of <i>Game of Thrones</i> episodes</h1>"
      ]
     },
     "execution_count": 12,
     "metadata": {},
     "output_type": "execute_result"
    }
   ],
   "source": [
    "html_soup.find('h1')"
   ]
  },
  {
   "cell_type": "code",
   "execution_count": 13,
   "metadata": {},
   "outputs": [
    {
     "data": {
      "text/plain": [
       "<h1 class=\"firstHeading\" id=\"firstHeading\" lang=\"en\">List of <i>Game of Thrones</i> episodes</h1>"
      ]
     },
     "execution_count": 13,
     "metadata": {},
     "output_type": "execute_result"
    }
   ],
   "source": [
    "html_soup.find('', {'id': 'firstHeading'})"
   ]
  },
  {
   "cell_type": "code",
   "execution_count": 17,
   "metadata": {},
   "outputs": [
    {
     "data": {
      "text/plain": [
       "[<h2>Contents</h2>,\n",
       " <h2><span class=\"mw-headline\" id=\"Series_overview\">Series overview</span></h2>,\n",
       " <h2><span class=\"mw-headline\" id=\"Episodes\">Episodes</span></h2>,\n",
       " <h2><span class=\"mw-headline\" id=\"Home_media_releases\">Home media releases</span></h2>,\n",
       " <h2><span class=\"mw-headline\" id=\"Ratings\">Ratings</span></h2>,\n",
       " <h2><span class=\"mw-headline\" id=\"References\">References</span></h2>,\n",
       " <h2><span class=\"mw-headline\" id=\"External_links\">External links</span></h2>,\n",
       " <h2>Navigation menu</h2>]"
      ]
     },
     "execution_count": 17,
     "metadata": {},
     "output_type": "execute_result"
    }
   ],
   "source": [
    "html_all_h2 = html_soup.find_all('h2')\n",
    "len(html_all_h2)\n",
    "html_all_h2"
   ]
  },
  {
   "cell_type": "code",
   "execution_count": 18,
   "metadata": {},
   "outputs": [
    {
     "name": "stdout",
     "output_type": "stream",
     "text": [
      "<h2>Contents</h2>\n",
      "<h2><span class=\"mw-headline\" id=\"Series_overview\">Series overview</span></h2>\n",
      "<h2><span class=\"mw-headline\" id=\"Episodes\">Episodes</span></h2>\n",
      "<h2><span class=\"mw-headline\" id=\"Home_media_releases\">Home media releases</span></h2>\n",
      "<h2><span class=\"mw-headline\" id=\"Ratings\">Ratings</span></h2>\n",
      "<h2><span class=\"mw-headline\" id=\"References\">References</span></h2>\n",
      "<h2><span class=\"mw-headline\" id=\"External_links\">External links</span></h2>\n",
      "<h2>Navigation menu</h2>\n"
     ]
    }
   ],
   "source": [
    "for found in html_soup.find_all('h2'):\n",
    "    print(found)\n",
    "    \n",
    "#find_all ima nekaj uporabnih atributov"
   ]
  },
  {
   "cell_type": "code",
   "execution_count": 19,
   "metadata": {},
   "outputs": [
    {
     "data": {
      "text/plain": [
       "<h1 class=\"firstHeading\" id=\"firstHeading\" lang=\"en\">List of <i>Game of Thrones</i> episodes</h1>"
      ]
     },
     "execution_count": 19,
     "metadata": {},
     "output_type": "execute_result"
    }
   ],
   "source": [
    "first_h1 = html_soup.find('h1')\n",
    "first_h1"
   ]
  },
  {
   "cell_type": "code",
   "execution_count": 21,
   "metadata": {},
   "outputs": [
    {
     "data": {
      "text/plain": [
       "'h1'"
      ]
     },
     "execution_count": 21,
     "metadata": {},
     "output_type": "execute_result"
    }
   ],
   "source": [
    "#izpišem tag elementa\n",
    "first_h1.name"
   ]
  },
  {
   "cell_type": "code",
   "execution_count": 22,
   "metadata": {},
   "outputs": [
    {
     "data": {
      "text/plain": [
       "['List of ', <i>Game of Thrones</i>, ' episodes']"
      ]
     },
     "execution_count": 22,
     "metadata": {},
     "output_type": "execute_result"
    }
   ],
   "source": [
    "#vsebina znoraj h1\n",
    "first_h1.contents"
   ]
  },
  {
   "cell_type": "code",
   "execution_count": 23,
   "metadata": {},
   "outputs": [
    {
     "data": {
      "text/plain": [
       "'<h1 class=\"firstHeading\" id=\"firstHeading\" lang=\"en\">List of <i>Game of Thrones</i> episodes</h1>'"
      ]
     },
     "execution_count": 23,
     "metadata": {},
     "output_type": "execute_result"
    }
   ],
   "source": [
    "str(first_h1)"
   ]
  },
  {
   "cell_type": "code",
   "execution_count": 24,
   "metadata": {},
   "outputs": [
    {
     "data": {
      "text/plain": [
       "'List of Game of Thrones episodes'"
      ]
     },
     "execution_count": 24,
     "metadata": {},
     "output_type": "execute_result"
    }
   ],
   "source": [
    "#če želimo dobiti točen tekst\n",
    "first_h1.text"
   ]
  },
  {
   "cell_type": "code",
   "execution_count": 26,
   "metadata": {},
   "outputs": [
    {
     "data": {
      "text/plain": [
       "'List of Game of Thrones episodes'"
      ]
     },
     "execution_count": 26,
     "metadata": {},
     "output_type": "execute_result"
    }
   ],
   "source": [
    "first_h1.get_text()"
   ]
  },
  {
   "cell_type": "code",
   "execution_count": 27,
   "metadata": {},
   "outputs": [
    {
     "data": {
      "text/plain": [
       "{'id': 'firstHeading', 'class': ['firstHeading'], 'lang': 'en'}"
      ]
     },
     "execution_count": 27,
     "metadata": {},
     "output_type": "execute_result"
    }
   ],
   "source": [
    "#slovar atributov znotraj h1\n",
    "first_h1.attrs"
   ]
  },
  {
   "cell_type": "code",
   "execution_count": 29,
   "metadata": {},
   "outputs": [
    {
     "data": {
      "text/plain": [
       "'List of --Game of Thrones-- episodes'"
      ]
     },
     "execution_count": 29,
     "metadata": {},
     "output_type": "execute_result"
    }
   ],
   "source": [
    "first_h1.get_text('--')"
   ]
  },
  {
   "cell_type": "code",
   "execution_count": 30,
   "metadata": {},
   "outputs": [
    {
     "data": {
      "text/plain": [
       "'firstHeading'"
      ]
     },
     "execution_count": 30,
     "metadata": {},
     "output_type": "execute_result"
    }
   ],
   "source": [
    "first_h1.attrs['id']"
   ]
  },
  {
   "cell_type": "code",
   "execution_count": 31,
   "metadata": {},
   "outputs": [
    {
     "data": {
      "text/plain": [
       "'firstHeading'"
      ]
     },
     "execution_count": 31,
     "metadata": {},
     "output_type": "execute_result"
    }
   ],
   "source": [
    "#isto kot zgoraj\n",
    "first_h1['id']"
   ]
  },
  {
   "cell_type": "code",
   "execution_count": 32,
   "metadata": {},
   "outputs": [
    {
     "data": {
      "text/plain": [
       "'firstHeading'"
      ]
     },
     "execution_count": 32,
     "metadata": {},
     "output_type": "execute_result"
    }
   ],
   "source": [
    "first_h1.get('id')"
   ]
  },
  {
   "cell_type": "code",
   "execution_count": 37,
   "metadata": {},
   "outputs": [
    {
     "data": {
      "text/plain": [
       "'Fowler, Matt (April 8, 2011). \"Game of Thrones: \"Winter is Coming\" Review\". IGN. Archived from the original on August 17, 2012. Retrieved September 22, 2016.'"
      ]
     },
     "execution_count": 37,
     "metadata": {},
     "output_type": "execute_result"
    }
   ],
   "source": [
    "#html class - v pythonu je class rezerviran za razrede. zato uporabimo class_\n",
    "cites = html_soup.find_all('cite', class_='citation', limit=4)\n",
    "cites[0].get_text()"
   ]
  },
  {
   "cell_type": "code",
   "execution_count": 41,
   "metadata": {},
   "outputs": [
    {
     "data": {
      "text/plain": [
       "'http://tv.ign.com/articles/116/1160215p1.html'"
      ]
     },
     "execution_count": 41,
     "metadata": {},
     "output_type": "execute_result"
    }
   ],
   "source": [
    "link = cites[0].find('a')\n",
    "link.get('href')"
   ]
  },
  {
   "cell_type": "code",
   "execution_count": 43,
   "metadata": {},
   "outputs": [
    {
     "name": "stdout",
     "output_type": "stream",
     "text": [
      "---> Fowler, Matt (April 8, 2011). \"Game of Thrones: \"Winter is Coming\" Review\". IGN. Archived from the original on August 17, 2012. Retrieved September 22, 2016. \n",
      "\n",
      "---> Fleming, Michael (January 16, 2007). \"HBO turns Fire into fantasy series\". Variety. Archived from the original on May 16, 2012. Retrieved September 3, 2016. \n",
      "\n",
      "---> \"Game of Thrones\". Emmys.com. Retrieved September 17, 2016. \n",
      "\n",
      "---> Roberts, Josh (April 1, 2012). \"Where HBO's hit 'Game of Thrones' was filmed\". USA Today. Archived from the original on April 1, 2012. Retrieved March 8, 2013. \n",
      "\n"
     ]
    }
   ],
   "source": [
    "for citation in cites:\n",
    "    print('--->', citation.get_text(), '\\n')"
   ]
  },
  {
   "cell_type": "code",
   "execution_count": 45,
   "metadata": {},
   "outputs": [
    {
     "data": {
      "text/plain": [
       "'\\n\\n\\n\\nList of Game of Thrones episodes - Wikipedia\\ndocument.documentElement.className=document.documen'"
      ]
     },
     "execution_count": 45,
     "metadata": {},
     "output_type": "execute_result"
    }
   ],
   "source": [
    "#PRIMER: preberemo celo tabelo in jo shranimo v dataframe\n",
    "html_soup.text[:100]"
   ]
  },
  {
   "cell_type": "code",
   "execution_count": 50,
   "metadata": {},
   "outputs": [],
   "source": [
    "episodes = []\n",
    "ep_tables = html_soup.find_all('table', class_='wikiepisodetable')"
   ]
  },
  {
   "cell_type": "code",
   "execution_count": 59,
   "metadata": {},
   "outputs": [],
   "source": [
    "for table in ep_tables[0]:\n",
    "    headers = []\n",
    "    rows = table.find_all('tr')\n",
    "    for header in table.find('tr').find_all('th'):\n",
    "        #dobimo vse naslove:\n",
    "        headers.append(header.text)\n",
    "    for row in rows[1:]:\n",
    "        values = []\n",
    "        for col in row.find_all(['th', 'td']):\n",
    "            values.append(col.text)\n",
    "        if values:\n",
    "            episode_dict = {headers[i]:values[i] for i in range (len(values))}\n",
    "            episodes.append(episode_dict)"
   ]
  },
  {
   "cell_type": "code",
   "execution_count": 60,
   "metadata": {},
   "outputs": [
    {
     "data": {
      "text/plain": [
       "{'No.overall': '1',\n",
       " 'No. inseason': '1',\n",
       " 'Title': '\"Winter Is Coming\"',\n",
       " 'Directed by': 'Tim Van Patten',\n",
       " 'Written by': 'David Benioff & D. B. Weiss',\n",
       " 'Original air date': 'April\\xa017,\\xa02011\\xa0(2011-04-17)',\n",
       " 'U.S. viewers(millions)': '2.22[20]'}"
      ]
     },
     "execution_count": 60,
     "metadata": {},
     "output_type": "execute_result"
    }
   ],
   "source": [
    "episodes[0]"
   ]
  },
  {
   "cell_type": "code",
   "execution_count": 61,
   "metadata": {},
   "outputs": [
    {
     "data": {
      "text/html": [
       "<div>\n",
       "<style scoped>\n",
       "    .dataframe tbody tr th:only-of-type {\n",
       "        vertical-align: middle;\n",
       "    }\n",
       "\n",
       "    .dataframe tbody tr th {\n",
       "        vertical-align: top;\n",
       "    }\n",
       "\n",
       "    .dataframe thead th {\n",
       "        text-align: right;\n",
       "    }\n",
       "</style>\n",
       "<table border=\"1\" class=\"dataframe\">\n",
       "  <thead>\n",
       "    <tr style=\"text-align: right;\">\n",
       "      <th></th>\n",
       "      <th>Directed by</th>\n",
       "      <th>No. inseason</th>\n",
       "      <th>No.overall</th>\n",
       "      <th>Original air date</th>\n",
       "      <th>Title</th>\n",
       "      <th>U.S. viewers(millions)</th>\n",
       "      <th>Written by</th>\n",
       "    </tr>\n",
       "  </thead>\n",
       "  <tbody>\n",
       "    <tr>\n",
       "      <th>0</th>\n",
       "      <td>Tim Van Patten</td>\n",
       "      <td>1</td>\n",
       "      <td>1</td>\n",
       "      <td>April 17, 2011 (2011-04-17)</td>\n",
       "      <td>\"Winter Is Coming\"</td>\n",
       "      <td>2.22[20]</td>\n",
       "      <td>David Benioff &amp; D. B. Weiss</td>\n",
       "    </tr>\n",
       "    <tr>\n",
       "      <th>1</th>\n",
       "      <td>Tim Van Patten</td>\n",
       "      <td>2</td>\n",
       "      <td>2</td>\n",
       "      <td>April 24, 2011 (2011-04-24)</td>\n",
       "      <td>\"The Kingsroad\"</td>\n",
       "      <td>2.20[21]</td>\n",
       "      <td>David Benioff &amp; D. B. Weiss</td>\n",
       "    </tr>\n",
       "    <tr>\n",
       "      <th>2</th>\n",
       "      <td>Brian Kirk</td>\n",
       "      <td>3</td>\n",
       "      <td>3</td>\n",
       "      <td>May 1, 2011 (2011-05-01)</td>\n",
       "      <td>\"Lord Snow\"</td>\n",
       "      <td>2.44[22]</td>\n",
       "      <td>David Benioff &amp; D. B. Weiss</td>\n",
       "    </tr>\n",
       "    <tr>\n",
       "      <th>3</th>\n",
       "      <td>Brian Kirk</td>\n",
       "      <td>4</td>\n",
       "      <td>4</td>\n",
       "      <td>May 8, 2011 (2011-05-08)</td>\n",
       "      <td>\"Cripples, Bastards, and Broken Things\"</td>\n",
       "      <td>2.45[23]</td>\n",
       "      <td>Bryan Cogman</td>\n",
       "    </tr>\n",
       "    <tr>\n",
       "      <th>4</th>\n",
       "      <td>Brian Kirk</td>\n",
       "      <td>5</td>\n",
       "      <td>5</td>\n",
       "      <td>May 15, 2011 (2011-05-15)</td>\n",
       "      <td>\"The Wolf and the Lion\"</td>\n",
       "      <td>2.58[24]</td>\n",
       "      <td>David Benioff &amp; D. B. Weiss</td>\n",
       "    </tr>\n",
       "  </tbody>\n",
       "</table>\n",
       "</div>"
      ],
      "text/plain": [
       "      Directed by No. inseason No.overall            Original air date  \\\n",
       "0  Tim Van Patten            1          1  April 17, 2011 (2011-04-17)   \n",
       "1  Tim Van Patten            2          2  April 24, 2011 (2011-04-24)   \n",
       "2      Brian Kirk            3          3     May 1, 2011 (2011-05-01)   \n",
       "3      Brian Kirk            4          4     May 8, 2011 (2011-05-08)   \n",
       "4      Brian Kirk            5          5    May 15, 2011 (2011-05-15)   \n",
       "\n",
       "                                     Title U.S. viewers(millions)  \\\n",
       "0                       \"Winter Is Coming\"               2.22[20]   \n",
       "1                          \"The Kingsroad\"               2.20[21]   \n",
       "2                              \"Lord Snow\"               2.44[22]   \n",
       "3  \"Cripples, Bastards, and Broken Things\"               2.45[23]   \n",
       "4                  \"The Wolf and the Lion\"               2.58[24]   \n",
       "\n",
       "                    Written by  \n",
       "0  David Benioff & D. B. Weiss  \n",
       "1  David Benioff & D. B. Weiss  \n",
       "2  David Benioff & D. B. Weiss  \n",
       "3                 Bryan Cogman  \n",
       "4  David Benioff & D. B. Weiss  "
      ]
     },
     "execution_count": 61,
     "metadata": {},
     "output_type": "execute_result"
    }
   ],
   "source": [
    "pd.DataFrame(episodes).head(5)"
   ]
  },
  {
   "cell_type": "markdown",
   "metadata": {},
   "source": [
    "# Web APIs"
   ]
  },
  {
   "cell_type": "markdown",
   "metadata": {},
   "source": [
    "### Primer uporabe APIja"
   ]
  },
  {
   "cell_type": "markdown",
   "metadata": {},
   "source": [
    "https://github.com/HackerNews/API"
   ]
  },
  {
   "cell_type": "code",
   "execution_count": 72,
   "metadata": {},
   "outputs": [],
   "source": [
    "articles = []"
   ]
  },
  {
   "cell_type": "code",
   "execution_count": 63,
   "metadata": {},
   "outputs": [],
   "source": [
    "#za zadnjo poševnico v urlju so še razle nastnosti api-ja\n",
    "url = 'https://hacker-news.firebaseio.com/v0'"
   ]
  },
  {
   "cell_type": "code",
   "execution_count": 66,
   "metadata": {},
   "outputs": [
    {
     "data": {
      "text/plain": [
       "'[20019647,20019874,20019206,20019877,20021568,20019975,20014281,20022186,20020282,20021289,20022086,20019355,20020644,20021615,20014303,20020837,20014330,20015581,20021521,20014694,20014230,20014372,20012499,20017854,20019258,20015968,20020095,20014426,20018535,20012953,20015109,20017506,20021159,20013533,20008694,20017646,20011937,20012231,20016964,20016177,20014030,20017593,20016848,20014002,20016982,20015775,20017373,20016138,20014691,20009825,20016264,20015633,20010510,20012687,20014388,20010881,20011521,20018934,20016340,20016728,20008908,20008943,20017104,20013716,20016181,20014184,20017448,20016997,20013616,20015944,20019487,20017493,20014233,20016986,20008466,20016700,20020542,20007077,20015760,20017595,20016126,20003892,20013598,20007638,20013662,20013732,20009017,19998806,20021999,20010812,20013588,20017061,19997813,20015638,20013720,20020210,20007752,20013751,20009037,20014204,20008230,20015406,20017449,20001151,20012977,20011768,20013486,20015724,20016972,20018661,20006162,20020342,20004127,20015386,20011252,20007813,20011967,20006525,20000496,20014348,20014349,20010004,20013804,20012338,20012612,20010906,20014490,20013512,20019352,20017267,20014962,20012057,20009838,20007602,20006850,20010155,20016256,20013485,20015906,20011488,20008261,20014590,20000380,20008257,20008576,20014022,20001175,20019194,20005315,20000649,20005230,20009534,20008709,20015203,20010178,20003661,20000462,20012869,20020329,20016361,20018487,20001570,20013785,20004866,20008918,20010466,20006324,20010643,20012730,20007630,20003391,20001284,19999583,20003340,20003232,20014206,20011860,20018079,19997188,20016637,19998024,20004738,20004839,20007980,20004634,20014274,20006966,20000087,19999124,20006338,20000116,20016131,19999739,20016740,20002360,20001580,20017407,20016601,20008896,20013443,20000318,20009103,19998004,20005939,20017409,20001559,20000305,20000498,20017894,20000178,20020997,20000235,20008396,20013436,20006010,20016496,20011558,20000100,20001383,20004761,19999554,20006785,20014257,19998645,20018344,20012392,19998710,20004224,20004704,20011544,20003907,20018220,20016310,20006062,20003290,20001339,20001026,19997366,19997008,20017896,19997070,20009413,19996866,20011978,19997251,20009111,19999045,20007628,20008313,20000547,20003367,20011466,20008181,20007557,20013322,20015785,19997843,20005028,20010803,20000109,20004809,20000151,20016937,19997971,19997399,20005229,20016396,20000034,20005008,20010680,20002244,20007643,20006476,20009447,20005365,20011843,20000019,20010701,20007108,20007908,19997838,20007484,20014229,20012120,20008347,20017723,20017656,20012614,20009501,20018394,20007728,20006827,20006139,20013320,20010437,20006208,20000169,20002780,20013181,20007726,19998231,20012000,20013016,20005966,20005617,20001919,19999818,20006378,20002648,19999927,19998134,20002490,19997387,20008488,20001183,19998064,20001322,20004547,20005931,20009800,20001586,20008220,20013601,19998722,20007763,20002220,20015620,20001609,20016942,19997915,20010825,20008848,20016457,20001560,20007574,20003933,20010459,19998518,20002637,20012362,20003695,19997378,20012058,19997504,20000082,20015037,20011281,20008418,20008362,20007496,20002463,20016620,20006887,20003332,20010662,20008037,19997905,20003952,19999859,20005841,20010490,20005219,20008094,20000074,20008746,19998142,20010062,20003362,19997256,20008950,19998987,20001348,19998237,20009741,20002881,20007667,20007612,20003858,19999993,19999977,20007420,20003855,19998984,20007072,19998819,19998770,20006749,20010467,19997590,20006391,20006267,19998302,20007313,19996958,20007599,19996769,20005518,20006866,20004571,20004040,20007767,19997704,19997682,20003454,20001695,19996795,19996787,20006459,20000432,20010162,19999191,19998924,20012661,20006782,19997017,20000802,20003702,20010932,20002753,20011176,20019532,20013431,20009397,20017492,20001179,20010463,20000628,20022168,20007055,20003138,20004013]'"
      ]
     },
     "execution_count": 66,
     "metadata": {},
     "output_type": "execute_result"
    }
   ],
   "source": [
    "top_stories = requests.get(url + '/topstories.json')\n",
    "top_stories.text"
   ]
  },
  {
   "cell_type": "code",
   "execution_count": 68,
   "metadata": {},
   "outputs": [],
   "source": [
    "top_stories = top_stories.json()"
   ]
  },
  {
   "cell_type": "code",
   "execution_count": 73,
   "metadata": {},
   "outputs": [
    {
     "name": "stdout",
     "output_type": "stream",
     "text": [
      "Prenos:  https://hacker-news.firebaseio.com/v0/item/20019647.json\n",
      "Prenos:  https://hacker-news.firebaseio.com/v0/item/20019874.json\n",
      "Prenos:  https://hacker-news.firebaseio.com/v0/item/20019206.json\n",
      "Prenos:  https://hacker-news.firebaseio.com/v0/item/20019877.json\n",
      "Prenos:  https://hacker-news.firebaseio.com/v0/item/20021568.json\n"
     ]
    }
   ],
   "source": [
    "for story_id in top_stories[:5]:\n",
    "    story_url = url + f'/item/{story_id}.json'\n",
    "    print('Prenos: ', story_url)\n",
    "    r = requests.get(story_url)\n",
    "    story_dict = r.json()\n",
    "    articles.append(story_dict)"
   ]
  },
  {
   "cell_type": "code",
   "execution_count": 74,
   "metadata": {},
   "outputs": [
    {
     "data": {
      "text/plain": [
       "{'by': 'ChuckMcM',\n",
       " 'descendants': 107,\n",
       " 'id': 20019647,\n",
       " 'kids': [20019656,\n",
       "  20021798,\n",
       "  20019813,\n",
       "  20021427,\n",
       "  20020785,\n",
       "  20020158,\n",
       "  20020261,\n",
       "  20020167,\n",
       "  20019727,\n",
       "  20021141,\n",
       "  20019699],\n",
       " 'score': 227,\n",
       " 'time': 1558934592,\n",
       " 'title': 'Arm announces its new premium CPU and GPU designs',\n",
       " 'type': 'story',\n",
       " 'url': 'https://techcrunch.com/2019/05/26/arm-announces-its-new-premium-cpu-and-gpu-designs/'}"
      ]
     },
     "execution_count": 74,
     "metadata": {},
     "output_type": "execute_result"
    }
   ],
   "source": [
    "articles[0]"
   ]
  },
  {
   "cell_type": "markdown",
   "metadata": {},
   "source": [
    "### Import data from web - pandas"
   ]
  },
  {
   "cell_type": "markdown",
   "metadata": {},
   "source": [
    "##### [Odprti podatki Slovenije](https://podatki.gov.si/)\n",
    "\n",
    "\n",
    "Na portalu OPSI boste našli vse od podatkov, orodij, do koristnih virov, s katerimi boste lahko razvijali spletne in mobilne aplikacije, oblikovali lastne infografike in drugo"
   ]
  },
  {
   "cell_type": "markdown",
   "metadata": {},
   "source": [
    "Primer: https://support.spatialkey.com/spatialkey-sample-csv-data/"
   ]
  },
  {
   "cell_type": "code",
   "execution_count": 76,
   "metadata": {},
   "outputs": [
    {
     "data": {
      "text/html": [
       "<div>\n",
       "<style scoped>\n",
       "    .dataframe tbody tr th:only-of-type {\n",
       "        vertical-align: middle;\n",
       "    }\n",
       "\n",
       "    .dataframe tbody tr th {\n",
       "        vertical-align: top;\n",
       "    }\n",
       "\n",
       "    .dataframe thead th {\n",
       "        text-align: right;\n",
       "    }\n",
       "</style>\n",
       "<table border=\"1\" class=\"dataframe\">\n",
       "  <thead>\n",
       "    <tr style=\"text-align: right;\">\n",
       "      <th></th>\n",
       "      <th>street</th>\n",
       "      <th>city</th>\n",
       "      <th>zip</th>\n",
       "      <th>state</th>\n",
       "      <th>beds</th>\n",
       "      <th>baths</th>\n",
       "      <th>sq__ft</th>\n",
       "      <th>type</th>\n",
       "      <th>sale_date</th>\n",
       "      <th>price</th>\n",
       "      <th>latitude</th>\n",
       "      <th>longitude</th>\n",
       "    </tr>\n",
       "  </thead>\n",
       "  <tbody>\n",
       "    <tr>\n",
       "      <th>0</th>\n",
       "      <td>3526 HIGH ST</td>\n",
       "      <td>SACRAMENTO</td>\n",
       "      <td>95838</td>\n",
       "      <td>CA</td>\n",
       "      <td>2</td>\n",
       "      <td>1</td>\n",
       "      <td>836</td>\n",
       "      <td>Residential</td>\n",
       "      <td>Wed May 21 00:00:00 EDT 2008</td>\n",
       "      <td>59222</td>\n",
       "      <td>38.631913</td>\n",
       "      <td>-121.434879</td>\n",
       "    </tr>\n",
       "    <tr>\n",
       "      <th>1</th>\n",
       "      <td>51 OMAHA CT</td>\n",
       "      <td>SACRAMENTO</td>\n",
       "      <td>95823</td>\n",
       "      <td>CA</td>\n",
       "      <td>3</td>\n",
       "      <td>1</td>\n",
       "      <td>1167</td>\n",
       "      <td>Residential</td>\n",
       "      <td>Wed May 21 00:00:00 EDT 2008</td>\n",
       "      <td>68212</td>\n",
       "      <td>38.478902</td>\n",
       "      <td>-121.431028</td>\n",
       "    </tr>\n",
       "    <tr>\n",
       "      <th>2</th>\n",
       "      <td>2796 BRANCH ST</td>\n",
       "      <td>SACRAMENTO</td>\n",
       "      <td>95815</td>\n",
       "      <td>CA</td>\n",
       "      <td>2</td>\n",
       "      <td>1</td>\n",
       "      <td>796</td>\n",
       "      <td>Residential</td>\n",
       "      <td>Wed May 21 00:00:00 EDT 2008</td>\n",
       "      <td>68880</td>\n",
       "      <td>38.618305</td>\n",
       "      <td>-121.443839</td>\n",
       "    </tr>\n",
       "    <tr>\n",
       "      <th>3</th>\n",
       "      <td>2805 JANETTE WAY</td>\n",
       "      <td>SACRAMENTO</td>\n",
       "      <td>95815</td>\n",
       "      <td>CA</td>\n",
       "      <td>2</td>\n",
       "      <td>1</td>\n",
       "      <td>852</td>\n",
       "      <td>Residential</td>\n",
       "      <td>Wed May 21 00:00:00 EDT 2008</td>\n",
       "      <td>69307</td>\n",
       "      <td>38.616835</td>\n",
       "      <td>-121.439146</td>\n",
       "    </tr>\n",
       "    <tr>\n",
       "      <th>4</th>\n",
       "      <td>6001 MCMAHON DR</td>\n",
       "      <td>SACRAMENTO</td>\n",
       "      <td>95824</td>\n",
       "      <td>CA</td>\n",
       "      <td>2</td>\n",
       "      <td>1</td>\n",
       "      <td>797</td>\n",
       "      <td>Residential</td>\n",
       "      <td>Wed May 21 00:00:00 EDT 2008</td>\n",
       "      <td>81900</td>\n",
       "      <td>38.519470</td>\n",
       "      <td>-121.435768</td>\n",
       "    </tr>\n",
       "  </tbody>\n",
       "</table>\n",
       "</div>"
      ],
      "text/plain": [
       "             street        city    zip state  beds  baths  sq__ft  \\\n",
       "0      3526 HIGH ST  SACRAMENTO  95838    CA     2      1     836   \n",
       "1       51 OMAHA CT  SACRAMENTO  95823    CA     3      1    1167   \n",
       "2    2796 BRANCH ST  SACRAMENTO  95815    CA     2      1     796   \n",
       "3  2805 JANETTE WAY  SACRAMENTO  95815    CA     2      1     852   \n",
       "4   6001 MCMAHON DR  SACRAMENTO  95824    CA     2      1     797   \n",
       "\n",
       "          type                     sale_date  price   latitude   longitude  \n",
       "0  Residential  Wed May 21 00:00:00 EDT 2008  59222  38.631913 -121.434879  \n",
       "1  Residential  Wed May 21 00:00:00 EDT 2008  68212  38.478902 -121.431028  \n",
       "2  Residential  Wed May 21 00:00:00 EDT 2008  68880  38.618305 -121.443839  \n",
       "3  Residential  Wed May 21 00:00:00 EDT 2008  69307  38.616835 -121.439146  \n",
       "4  Residential  Wed May 21 00:00:00 EDT 2008  81900  38.519470 -121.435768  "
      ]
     },
     "execution_count": 76,
     "metadata": {},
     "output_type": "execute_result"
    }
   ],
   "source": [
    "data = pd.read_csv('http://samplecsvs.s3.amazonaws.com/Sacramentorealestatetransactions.csv')\n",
    "data.head()"
   ]
  },
  {
   "cell_type": "markdown",
   "metadata": {},
   "source": [
    "## Web Scraping using pandas"
   ]
  },
  {
   "cell_type": "markdown",
   "metadata": {},
   "source": [
    "> Spletna stran: https://www.fdic.gov/bank/individual/failed/banklist.html"
   ]
  },
  {
   "cell_type": "markdown",
   "metadata": {},
   "source": [
    "`pandas.read_html: ` Read HTML tables into a list of DataFrame objects. -> [Dokumentacija](https://pandas.pydata.org/pandas-docs/version/0.23.4/generated/pandas.read_html.html)\n",
    "\n"
   ]
  },
  {
   "cell_type": "code",
   "execution_count": 77,
   "metadata": {},
   "outputs": [
    {
     "data": {
      "text/plain": [
       "1"
      ]
     },
     "execution_count": 77,
     "metadata": {},
     "output_type": "execute_result"
    }
   ],
   "source": [
    "tables = pd.read_html('https://www.fdic.gov/bank/individual/failed/banklist.html')\n",
    "len(tables)"
   ]
  },
  {
   "cell_type": "code",
   "execution_count": 78,
   "metadata": {},
   "outputs": [
    {
     "name": "stdout",
     "output_type": "stream",
     "text": [
      "<class 'pandas.core.frame.DataFrame'>\n",
      "RangeIndex: 555 entries, 0 to 554\n",
      "Data columns (total 7 columns):\n",
      "Bank Name                555 non-null object\n",
      "City                     555 non-null object\n",
      "ST                       555 non-null object\n",
      "CERT                     555 non-null int64\n",
      "Acquiring Institution    555 non-null object\n",
      "Closing Date             555 non-null object\n",
      "Updated Date             555 non-null object\n",
      "dtypes: int64(1), object(6)\n",
      "memory usage: 30.4+ KB\n"
     ]
    }
   ],
   "source": [
    "banks = tables[0]\n",
    "banks.info()"
   ]
  },
  {
   "cell_type": "code",
   "execution_count": 79,
   "metadata": {},
   "outputs": [
    {
     "data": {
      "text/html": [
       "<div>\n",
       "<style scoped>\n",
       "    .dataframe tbody tr th:only-of-type {\n",
       "        vertical-align: middle;\n",
       "    }\n",
       "\n",
       "    .dataframe tbody tr th {\n",
       "        vertical-align: top;\n",
       "    }\n",
       "\n",
       "    .dataframe thead th {\n",
       "        text-align: right;\n",
       "    }\n",
       "</style>\n",
       "<table border=\"1\" class=\"dataframe\">\n",
       "  <thead>\n",
       "    <tr style=\"text-align: right;\">\n",
       "      <th></th>\n",
       "      <th>Bank Name</th>\n",
       "      <th>City</th>\n",
       "      <th>ST</th>\n",
       "      <th>CERT</th>\n",
       "      <th>Acquiring Institution</th>\n",
       "      <th>Closing Date</th>\n",
       "      <th>Updated Date</th>\n",
       "    </tr>\n",
       "  </thead>\n",
       "  <tbody>\n",
       "    <tr>\n",
       "      <th>0</th>\n",
       "      <td>Washington Federal Bank for Savings</td>\n",
       "      <td>Chicago</td>\n",
       "      <td>IL</td>\n",
       "      <td>30570</td>\n",
       "      <td>Royal Savings Bank</td>\n",
       "      <td>December 15, 2017</td>\n",
       "      <td>February 1, 2019</td>\n",
       "    </tr>\n",
       "    <tr>\n",
       "      <th>1</th>\n",
       "      <td>The Farmers and Merchants State Bank of Argonia</td>\n",
       "      <td>Argonia</td>\n",
       "      <td>KS</td>\n",
       "      <td>17719</td>\n",
       "      <td>Conway Bank</td>\n",
       "      <td>October 13, 2017</td>\n",
       "      <td>February 21, 2018</td>\n",
       "    </tr>\n",
       "    <tr>\n",
       "      <th>2</th>\n",
       "      <td>Fayette County Bank</td>\n",
       "      <td>Saint Elmo</td>\n",
       "      <td>IL</td>\n",
       "      <td>1802</td>\n",
       "      <td>United Fidelity Bank, fsb</td>\n",
       "      <td>May 26, 2017</td>\n",
       "      <td>January 29, 2019</td>\n",
       "    </tr>\n",
       "    <tr>\n",
       "      <th>3</th>\n",
       "      <td>Guaranty Bank, (d/b/a BestBank in Georgia &amp; Mi...</td>\n",
       "      <td>Milwaukee</td>\n",
       "      <td>WI</td>\n",
       "      <td>30003</td>\n",
       "      <td>First-Citizens Bank &amp; Trust Company</td>\n",
       "      <td>May 5, 2017</td>\n",
       "      <td>March 22, 2018</td>\n",
       "    </tr>\n",
       "    <tr>\n",
       "      <th>4</th>\n",
       "      <td>First NBC Bank</td>\n",
       "      <td>New Orleans</td>\n",
       "      <td>LA</td>\n",
       "      <td>58302</td>\n",
       "      <td>Whitney Bank</td>\n",
       "      <td>April 28, 2017</td>\n",
       "      <td>January 29, 2019</td>\n",
       "    </tr>\n",
       "  </tbody>\n",
       "</table>\n",
       "</div>"
      ],
      "text/plain": [
       "                                           Bank Name         City  ST   CERT  \\\n",
       "0                Washington Federal Bank for Savings      Chicago  IL  30570   \n",
       "1    The Farmers and Merchants State Bank of Argonia      Argonia  KS  17719   \n",
       "2                                Fayette County Bank   Saint Elmo  IL   1802   \n",
       "3  Guaranty Bank, (d/b/a BestBank in Georgia & Mi...    Milwaukee  WI  30003   \n",
       "4                                     First NBC Bank  New Orleans  LA  58302   \n",
       "\n",
       "                 Acquiring Institution       Closing Date       Updated Date  \n",
       "0                   Royal Savings Bank  December 15, 2017   February 1, 2019  \n",
       "1                          Conway Bank   October 13, 2017  February 21, 2018  \n",
       "2            United Fidelity Bank, fsb       May 26, 2017   January 29, 2019  \n",
       "3  First-Citizens Bank & Trust Company        May 5, 2017     March 22, 2018  \n",
       "4                         Whitney Bank     April 28, 2017   January 29, 2019  "
      ]
     },
     "execution_count": 79,
     "metadata": {},
     "output_type": "execute_result"
    }
   ],
   "source": [
    "banks.head()"
   ]
  },
  {
   "cell_type": "code",
   "execution_count": 80,
   "metadata": {},
   "outputs": [
    {
     "data": {
      "text/plain": [
       "2010    157\n",
       "2009    140\n",
       "2011     92\n",
       "2012     51\n",
       "2008     25\n",
       "2013     24\n",
       "2014     18\n",
       "2002     11\n",
       "2017      8\n",
       "2015      8\n",
       "2016      5\n",
       "2004      4\n",
       "2001      4\n",
       "2007      3\n",
       "2003      3\n",
       "2000      2\n",
       "Name: Closing Date, dtype: int64"
      ]
     },
     "execution_count": 80,
     "metadata": {},
     "output_type": "execute_result"
    }
   ],
   "source": [
    "#pogledamo koliko bank se je zaprlo po letih\n",
    "close_timestamps = pd.to_datetime(banks['Closing Date'])\n",
    "close_timestamps.dt.year.value_counts()"
   ]
  },
  {
   "cell_type": "markdown",
   "metadata": {},
   "source": [
    "## Primeri"
   ]
  },
  {
   "cell_type": "markdown",
   "metadata": {},
   "source": [
    "### Scraping and Visualizing IMDB Ratings"
   ]
  },
  {
   "cell_type": "markdown",
   "metadata": {},
   "source": [
    "Stran: http://www.imdb.com/title/tt0944947/episodes"
   ]
  },
  {
   "cell_type": "code",
   "execution_count": 81,
   "metadata": {},
   "outputs": [],
   "source": [
    "import requests\n",
    "from bs4 import BeautifulSoup\n",
    "url = 'http://www.imdb.com/title/tt0944947/episodes'"
   ]
  },
  {
   "cell_type": "code",
   "execution_count": null,
   "metadata": {},
   "outputs": [],
   "source": [
    "#za vse sezone game of thrones želimo dobiti graf ocen epizod"
   ]
  },
  {
   "cell_type": "code",
   "execution_count": 82,
   "metadata": {},
   "outputs": [],
   "source": [
    "episodes = []\n",
    "rankings = []"
   ]
  },
  {
   "cell_type": "code",
   "execution_count": 84,
   "metadata": {},
   "outputs": [
    {
     "name": "stdout",
     "output_type": "stream",
     "text": [
      "{season}.{epnr + 1} <span class=\"ipl-rating-star__rating\">7.7</span>\n",
      "----------------\n",
      "{season}.{epnr + 1} <span class=\"ipl-rating-star__rating\">8.0</span>\n",
      "----------------\n",
      "{season}.{epnr + 1} <span class=\"ipl-rating-star__rating\">7.6</span>\n",
      "----------------\n",
      "{season}.{epnr + 1} <span class=\"ipl-rating-star__rating\">5.6</span>\n",
      "----------------\n",
      "{season}.{epnr + 1} <span class=\"ipl-rating-star__rating\">6.2</span>\n",
      "----------------\n",
      "{season}.{epnr + 1} <span class=\"ipl-rating-star__rating\">4.3</span>\n",
      "----------------\n",
      "{season}.{epnr + 1} <span class=\"ipl-rating-star__rating\">7.7</span>\n",
      "----------------\n",
      "{season}.{epnr + 1} <span class=\"ipl-rating-star__rating\">8.0</span>\n",
      "----------------\n",
      "{season}.{epnr + 1} <span class=\"ipl-rating-star__rating\">7.6</span>\n",
      "----------------\n",
      "{season}.{epnr + 1} <span class=\"ipl-rating-star__rating\">5.6</span>\n",
      "----------------\n",
      "{season}.{epnr + 1} <span class=\"ipl-rating-star__rating\">6.2</span>\n",
      "----------------\n",
      "{season}.{epnr + 1} <span class=\"ipl-rating-star__rating\">4.3</span>\n",
      "----------------\n",
      "{season}.{epnr + 1} <span class=\"ipl-rating-star__rating\">7.7</span>\n",
      "----------------\n",
      "{season}.{epnr + 1} <span class=\"ipl-rating-star__rating\">8.0</span>\n",
      "----------------\n",
      "{season}.{epnr + 1} <span class=\"ipl-rating-star__rating\">7.6</span>\n",
      "----------------\n",
      "{season}.{epnr + 1} <span class=\"ipl-rating-star__rating\">5.6</span>\n",
      "----------------\n",
      "{season}.{epnr + 1} <span class=\"ipl-rating-star__rating\">6.2</span>\n",
      "----------------\n",
      "{season}.{epnr + 1} <span class=\"ipl-rating-star__rating\">4.3</span>\n",
      "----------------\n",
      "{season}.{epnr + 1} <span class=\"ipl-rating-star__rating\">7.7</span>\n",
      "----------------\n",
      "{season}.{epnr + 1} <span class=\"ipl-rating-star__rating\">8.0</span>\n",
      "----------------\n",
      "{season}.{epnr + 1} <span class=\"ipl-rating-star__rating\">7.6</span>\n",
      "----------------\n",
      "{season}.{epnr + 1} <span class=\"ipl-rating-star__rating\">5.6</span>\n",
      "----------------\n",
      "{season}.{epnr + 1} <span class=\"ipl-rating-star__rating\">6.2</span>\n",
      "----------------\n",
      "{season}.{epnr + 1} <span class=\"ipl-rating-star__rating\">4.3</span>\n",
      "----------------\n",
      "{season}.{epnr + 1} <span class=\"ipl-rating-star__rating\">7.7</span>\n",
      "----------------\n",
      "{season}.{epnr + 1} <span class=\"ipl-rating-star__rating\">8.0</span>\n",
      "----------------\n",
      "{season}.{epnr + 1} <span class=\"ipl-rating-star__rating\">7.6</span>\n",
      "----------------\n",
      "{season}.{epnr + 1} <span class=\"ipl-rating-star__rating\">5.6</span>\n",
      "----------------\n",
      "{season}.{epnr + 1} <span class=\"ipl-rating-star__rating\">6.2</span>\n",
      "----------------\n",
      "{season}.{epnr + 1} <span class=\"ipl-rating-star__rating\">4.3</span>\n",
      "----------------\n",
      "{season}.{epnr + 1} <span class=\"ipl-rating-star__rating\">7.7</span>\n",
      "----------------\n",
      "{season}.{epnr + 1} <span class=\"ipl-rating-star__rating\">8.0</span>\n",
      "----------------\n",
      "{season}.{epnr + 1} <span class=\"ipl-rating-star__rating\">7.6</span>\n",
      "----------------\n",
      "{season}.{epnr + 1} <span class=\"ipl-rating-star__rating\">5.6</span>\n",
      "----------------\n",
      "{season}.{epnr + 1} <span class=\"ipl-rating-star__rating\">6.2</span>\n",
      "----------------\n",
      "{season}.{epnr + 1} <span class=\"ipl-rating-star__rating\">4.3</span>\n",
      "----------------\n",
      "{season}.{epnr + 1} <span class=\"ipl-rating-star__rating\">7.7</span>\n",
      "----------------\n",
      "{season}.{epnr + 1} <span class=\"ipl-rating-star__rating\">8.0</span>\n",
      "----------------\n",
      "{season}.{epnr + 1} <span class=\"ipl-rating-star__rating\">7.6</span>\n",
      "----------------\n",
      "{season}.{epnr + 1} <span class=\"ipl-rating-star__rating\">5.6</span>\n",
      "----------------\n",
      "{season}.{epnr + 1} <span class=\"ipl-rating-star__rating\">6.2</span>\n",
      "----------------\n",
      "{season}.{epnr + 1} <span class=\"ipl-rating-star__rating\">4.3</span>\n",
      "----------------\n",
      "{season}.{epnr + 1} <span class=\"ipl-rating-star__rating\">7.7</span>\n",
      "----------------\n",
      "{season}.{epnr + 1} <span class=\"ipl-rating-star__rating\">8.0</span>\n",
      "----------------\n",
      "{season}.{epnr + 1} <span class=\"ipl-rating-star__rating\">7.6</span>\n",
      "----------------\n",
      "{season}.{epnr + 1} <span class=\"ipl-rating-star__rating\">5.6</span>\n",
      "----------------\n",
      "{season}.{epnr + 1} <span class=\"ipl-rating-star__rating\">6.2</span>\n",
      "----------------\n",
      "{season}.{epnr + 1} <span class=\"ipl-rating-star__rating\">4.3</span>\n",
      "----------------\n"
     ]
    }
   ],
   "source": [
    "for season in range(1,9):\n",
    "    r = requests.get(url, params={'seasons': season})\n",
    "    if r.status_code == 200: #preverimo, da je bil request res narejen\n",
    "        soup = BeautifulSoup(r.text, 'html.parser')\n",
    "        listing = soup.find('div', class_='eplist')\n",
    "        #rekurzivnost spodaj nastavimo na False, da dobimo samo 1. element\n",
    "        for epnr, div in enumerate(listing.find_all('div',recursive=False)):\n",
    "            episode = r'{season}.{epnr + 1}'\n",
    "            rating_el = div.find(class_='ipl-rating-star__rating')\n",
    "            print(episode, rating_el)\n",
    "            print('----------------')\n",
    "            rating = float(rating_el.get_text(strip=True))\n",
    "            episodes.append(episode)\n",
    "            rankings.append(rating)\n"
   ]
  },
  {
   "cell_type": "code",
   "execution_count": 85,
   "metadata": {},
   "outputs": [
    {
     "data": {
      "text/plain": [
       "[7.7,\n",
       " 8.0,\n",
       " 7.6,\n",
       " 5.6,\n",
       " 6.2,\n",
       " 4.3,\n",
       " 7.7,\n",
       " 8.0,\n",
       " 7.6,\n",
       " 5.6,\n",
       " 6.2,\n",
       " 4.3,\n",
       " 7.7,\n",
       " 8.0,\n",
       " 7.6,\n",
       " 5.6,\n",
       " 6.2,\n",
       " 4.3,\n",
       " 7.7,\n",
       " 8.0]"
      ]
     },
     "execution_count": 85,
     "metadata": {},
     "output_type": "execute_result"
    }
   ],
   "source": [
    "rankings[:20]"
   ]
  },
  {
   "cell_type": "code",
   "execution_count": 86,
   "metadata": {},
   "outputs": [
    {
     "data": {
      "text/plain": [
       "['{season}.{epnr + 1}',\n",
       " '{season}.{epnr + 1}',\n",
       " '{season}.{epnr + 1}',\n",
       " '{season}.{epnr + 1}',\n",
       " '{season}.{epnr + 1}',\n",
       " '{season}.{epnr + 1}',\n",
       " '{season}.{epnr + 1}',\n",
       " '{season}.{epnr + 1}',\n",
       " '{season}.{epnr + 1}',\n",
       " '{season}.{epnr + 1}',\n",
       " '{season}.{epnr + 1}',\n",
       " '{season}.{epnr + 1}',\n",
       " '{season}.{epnr + 1}',\n",
       " '{season}.{epnr + 1}',\n",
       " '{season}.{epnr + 1}',\n",
       " '{season}.{epnr + 1}',\n",
       " '{season}.{epnr + 1}',\n",
       " '{season}.{epnr + 1}',\n",
       " '{season}.{epnr + 1}',\n",
       " '{season}.{epnr + 1}']"
      ]
     },
     "execution_count": 86,
     "metadata": {},
     "output_type": "execute_result"
    }
   ],
   "source": [
    "episodes[:20]"
   ]
  },
  {
   "cell_type": "code",
   "execution_count": 89,
   "metadata": {},
   "outputs": [
    {
     "data": {
      "text/plain": [
       "<BarContainer object of 48 artists>"
      ]
     },
     "execution_count": 89,
     "metadata": {},
     "output_type": "execute_result"
    },
    {
     "data": {
      "image/png": "[encoded data removed]",
      "text/plain": [
       "<Figure size 432x288 with 1 Axes>"
      ]
     },
     "metadata": {
      "needs_background": "light"
     },
     "output_type": "display_data"
    }
   ],
   "source": [
    "import matplotlib.pylab as plt\n",
    "plt.figure()\n",
    "positions = [a for a in range(len(rankings))]\n",
    "plt.bar(positions, rankings, align='center')\n"
   ]
  },
  {
   "cell_type": "code",
   "execution_count": 90,
   "metadata": {},
   "outputs": [],
   "source": [
    "#tole zgoraj ne dela čisto ok"
   ]
  },
  {
   "cell_type": "markdown",
   "metadata": {},
   "source": [
    "### Scraping Fast Track data"
   ]
  },
  {
   "cell_type": "markdown",
   "metadata": {},
   "source": [
    "Stran: https://www.fasttrack.co.uk/league-tables/tech-track-100/league-table/"
   ]
  },
  {
   "cell_type": "code",
   "execution_count": 97,
   "metadata": {},
   "outputs": [],
   "source": [
    "# import libraries\n",
    "from bs4 import BeautifulSoup\n",
    "import requests\n",
    "import csv"
   ]
  },
  {
   "cell_type": "code",
   "execution_count": 98,
   "metadata": {},
   "outputs": [],
   "source": [
    "# specify the url\n",
    "urlpage =  'http://www.fasttrack.co.uk/league-tables/tech-track-100/league-table/'"
   ]
  },
  {
   "cell_type": "code",
   "execution_count": 99,
   "metadata": {},
   "outputs": [],
   "source": [
    "page = requests.get(urlpage)"
   ]
  },
  {
   "cell_type": "code",
   "execution_count": 100,
   "metadata": {},
   "outputs": [],
   "source": [
    "soup = BeautifulSoup(page.text, 'html.parser')"
   ]
  },
  {
   "cell_type": "code",
   "execution_count": 101,
   "metadata": {},
   "outputs": [],
   "source": [
    "table = soup.find('table', class_='tableSorter')"
   ]
  },
  {
   "cell_type": "code",
   "execution_count": 103,
   "metadata": {},
   "outputs": [
    {
     "name": "stdout",
     "output_type": "stream",
     "text": [
      "No. of rows:  101\n"
     ]
    }
   ],
   "source": [
    "results = table.find_all('tr')\n",
    "b"
   ]
  },
  {
   "cell_type": "code",
   "execution_count": 104,
   "metadata": {},
   "outputs": [
    {
     "data": {
      "text/plain": [
       "<tr>\n",
       "<th>Rank</th>\n",
       "<th>Company</th>\n",
       "<th class=\"\">Location</th>\n",
       "<th class=\"no-word-wrap\">Year end</th>\n",
       "<th class=\"\" style=\"text-align:right;\">Annual sales rise over 3 years</th>\n",
       "<th class=\"\" style=\"text-align:right;\">Latest sales £000s</th>\n",
       "<th class=\"\" style=\"text-align:right;\">Staff</th>\n",
       "<th class=\"\">Comment</th>\n",
       "<!--\t\t\t\t<th>FYE</th>-->\n",
       "</tr>"
      ]
     },
     "execution_count": 104,
     "metadata": {},
     "output_type": "execute_result"
    }
   ],
   "source": [
    "results[0]"
   ]
  },
  {
   "cell_type": "code",
   "execution_count": 105,
   "metadata": {},
   "outputs": [
    {
     "data": {
      "text/plain": [
       "['Rank',\n",
       " 'Company',\n",
       " 'Location',\n",
       " 'Year end',\n",
       " 'Annual sales rise over 3 years',\n",
       " 'Latest sales £000s',\n",
       " 'Staff',\n",
       " 'Comment']"
      ]
     },
     "execution_count": 105,
     "metadata": {},
     "output_type": "execute_result"
    }
   ],
   "source": [
    "rows = []\n",
    "for row in results[0].find_all('th'):\n",
    "    rows.append(row.contents[0])\n",
    "#dobimo imena stolpcev:   \n",
    "rows"
   ]
  },
  {
   "cell_type": "code",
   "execution_count": 106,
   "metadata": {},
   "outputs": [
    {
     "data": {
      "text/plain": [
       "[['Rank',\n",
       "  'Company Name',\n",
       "  'Webpage',\n",
       "  'Description',\n",
       "  'Location',\n",
       "  'Year End',\n",
       "  'Annual sales rise over 3 years',\n",
       "  'Sales £000s',\n",
       "  'Staff',\n",
       "  'Comments']]"
      ]
     },
     "execution_count": 106,
     "metadata": {},
     "output_type": "execute_result"
    }
   ],
   "source": [
    "rows = []\n",
    "rows.append(['Rank', 'Company Name', 'Webpage', 'Description', 'Location',\n",
    "            'Year End', 'Annual sales rise over 3 years', 'Sales £000s',\n",
    "            'Staff', 'Comments'])\n",
    "rows"
   ]
  },
  {
   "cell_type": "code",
   "execution_count": 108,
   "metadata": {},
   "outputs": [
    {
     "data": {
      "text/plain": [
       "[<td>100</td>,\n",
       " <td><a href=\"https://www.fasttrack.co.uk/company_profile/brompton-technology/\"><span class=\"company-name\">Brompton Technology</span></a>Video technology provider</td>,\n",
       " <td>West London</td>,\n",
       " <td>Aug-17</td>,\n",
       " <td style=\"text-align:right;\">50.17%</td>,\n",
       " <td style=\"text-align:right;\">*5,250</td>,\n",
       " <td style=\"text-align:right;\">27</td>,\n",
       " <td>Its technology is used in high-profile events such as the Oscars</td>]"
      ]
     },
     "execution_count": 108,
     "metadata": {},
     "output_type": "execute_result"
    }
   ],
   "source": [
    "for result in results:\n",
    "    data = result.find_all('td')\n",
    "    if len(data) == 0:\n",
    "        continue\n",
    "data"
   ]
  },
  {
   "cell_type": "code",
   "execution_count": 109,
   "metadata": {},
   "outputs": [],
   "source": [
    "# write columns to variables\n",
    "rank = data[0].getText()\n",
    "company = data[1].getText()\n",
    "location = data[2].getText()\n",
    "yearend = data[3].getText()\n",
    "salesrise = data[4].getText()\n",
    "sales = data[5].getText()\n",
    "staff = data[6].getText()\n",
    "comments = data[7].getText()"
   ]
  },
  {
   "cell_type": "code",
   "execution_count": 113,
   "metadata": {},
   "outputs": [
    {
     "data": {
      "text/plain": [
       "'Brompton TechnologyVideo technology provider'"
      ]
     },
     "execution_count": 113,
     "metadata": {},
     "output_type": "execute_result"
    }
   ],
   "source": [
    "#želimo razdeliti na 2 dela\n",
    "company"
   ]
  },
  {
   "cell_type": "code",
   "execution_count": 115,
   "metadata": {},
   "outputs": [
    {
     "data": {
      "text/plain": [
       "'Brompton Technology'"
      ]
     },
     "execution_count": 115,
     "metadata": {},
     "output_type": "execute_result"
    }
   ],
   "source": [
    "companyname = data[1].find('span', class_='company-name').getText()\n",
    "companyname"
   ]
  },
  {
   "cell_type": "code",
   "execution_count": 116,
   "metadata": {},
   "outputs": [
    {
     "data": {
      "text/plain": [
       "'Video technology provider'"
      ]
     },
     "execution_count": 116,
     "metadata": {},
     "output_type": "execute_result"
    }
   ],
   "source": [
    "#trik kako dobimo še drugi del\n",
    "description = company.replace(companyname, '')\n",
    "description"
   ]
  },
  {
   "cell_type": "code",
   "execution_count": 117,
   "metadata": {},
   "outputs": [
    {
     "data": {
      "text/plain": [
       "'*5,250'"
      ]
     },
     "execution_count": 117,
     "metadata": {},
     "output_type": "execute_result"
    }
   ],
   "source": [
    "sales"
   ]
  },
  {
   "cell_type": "code",
   "execution_count": 118,
   "metadata": {},
   "outputs": [
    {
     "data": {
      "text/plain": [
       "'5,250'"
      ]
     },
     "execution_count": 118,
     "metadata": {},
     "output_type": "execute_result"
    }
   ],
   "source": [
    "sales.strip('*')"
   ]
  },
  {
   "cell_type": "code",
   "execution_count": 119,
   "metadata": {},
   "outputs": [
    {
     "data": {
      "text/plain": [
       "'5250'"
      ]
     },
     "execution_count": 119,
     "metadata": {},
     "output_type": "execute_result"
    }
   ],
   "source": [
    "sales.strip('*').replace(',','')"
   ]
  },
  {
   "cell_type": "code",
   "execution_count": 120,
   "metadata": {},
   "outputs": [
    {
     "data": {
      "text/plain": [
       "<td><a href=\"https://www.fasttrack.co.uk/company_profile/brompton-technology/\"><span class=\"company-name\">Brompton Technology</span></a>Video technology provider</td>"
      ]
     },
     "execution_count": 120,
     "metadata": {},
     "output_type": "execute_result"
    }
   ],
   "source": [
    "data[1]"
   ]
  },
  {
   "cell_type": "code",
   "execution_count": 121,
   "metadata": {},
   "outputs": [
    {
     "data": {
      "text/plain": [
       "'https://www.fasttrack.co.uk/company_profile/brompton-technology/'"
      ]
     },
     "execution_count": 121,
     "metadata": {},
     "output_type": "execute_result"
    }
   ],
   "source": [
    "url = data[1].find('a').get('href')\n",
    "url"
   ]
  },
  {
   "cell_type": "code",
   "execution_count": 123,
   "metadata": {},
   "outputs": [],
   "source": [
    "page = requests.get(url)\n",
    "soup = BeautifulSoup(page.text, 'html.parser')"
   ]
  },
  {
   "cell_type": "code",
   "execution_count": 125,
   "metadata": {},
   "outputs": [
    {
     "data": {
      "text/plain": [
       "'http://www.bromptontech.com'"
      ]
     },
     "execution_count": 125,
     "metadata": {},
     "output_type": "execute_result"
    }
   ],
   "source": [
    "try:\n",
    "    tableRow = soup.find('table').find_all('tr')[-1]\n",
    "    webpage = tableRow.find('a').get('href')\n",
    "except:\n",
    "    webpage = None\n",
    "webpage"
   ]
  },
  {
   "cell_type": "markdown",
   "metadata": {},
   "source": [
    "#### Celotni program skupaj"
   ]
  },
  {
   "cell_type": "code",
   "execution_count": 126,
   "metadata": {},
   "outputs": [
    {
     "name": "stdout",
     "output_type": "stream",
     "text": [
      "No. of rows:  101\n"
     ]
    }
   ],
   "source": [
    "from bs4 import BeautifulSoup\n",
    "import requests\n",
    "import csv\n",
    "\n",
    "urlpage =  'http://www.fasttrack.co.uk/league-tables/tech-track-100/league-table/'\n",
    "\n",
    "page = requests.get(urlpage)\n",
    "soup = BeautifulSoup(page.text, 'html.parser')\n",
    "\n",
    "table = soup.find('table', class_='tableSorter')\n",
    "results = table.find_all('tr')\n",
    "print('No. of rows: ', len(results))"
   ]
  },
  {
   "cell_type": "code",
   "execution_count": 127,
   "metadata": {},
   "outputs": [],
   "source": [
    "rows = []\n",
    "rows.append(['Rank', 'Company Name', 'Webpage', 'Description', 'Location',\n",
    "            'Year End', 'Annual sales rise over 3 years', 'Sales £000s',\n",
    "            'Staff', 'Comments'])"
   ]
  },
  {
   "cell_type": "code",
   "execution_count": 129,
   "metadata": {},
   "outputs": [
    {
     "name": "stdout",
     "output_type": "stream",
     "text": [
      "1  - Company is Plan.com\n",
      "2  - Company is PsiOxus\n",
      "3  - Company is CensorNet\n",
      "4  - Company is thoughtonomy\n",
      "5  - Company is Perkbox\n",
      "6  - Company is Ogury\n",
      "7  - Company is Verve\n",
      "8  - Company is goHenry\n",
      "9  - Company is Darktrace\n",
      "10  - Company is Bizuma\n",
      "11  - Company is Depop\n",
      "12  - Company is Laser Wire Solutions\n",
      "13  - Company is Bought By Many\n",
      "14  - Company is Optal\n",
      "15  - Company is Infinox\n",
      "16  - Company is Oakbrook\n",
      "17  - Company is Carwow\n",
      "18  - Company is Receipt Bank\n",
      "19  - Company is dB Broadcast\n",
      "20  - Company is The Car Buying Group\n",
      "21  - Company is Festicket\n",
      "22  - Company is Planixs\n",
      "23  - Company is Gigaclear\n",
      "24  - Company is TransferWise\n",
      "25  - Company is PatSnap\n",
      "26  - Company is Hyperoptic\n",
      "27  - Company is GoCardless\n",
      "28  - Company is Purple\n",
      "29  - Company is Trustpay Global\n",
      "30  - Company is iwoca\n",
      "31  - Company is LADBible Group\n",
      "32  - Company is Threads Styling\n",
      "33  - Company is Prodigy Finance\n",
      "34  - Company is Azimo\n",
      "35  - Company is Chameleon\n",
      "36  - Company is SuperAwesome\n",
      "37  - Company is Gousto\n",
      "38  - Company is Vizolution\n",
      "39  - Company is MoveGB\n",
      "40  - Company is BBOXX\n",
      "41  - Company is Funding Circle\n",
      "42  - Company is LoopMe\n",
      "43  - Company is Kano\n",
      "44  - Company is Capital on Tap\n",
      "45  - Company is Hutch\n",
      "46  - Company is ENSEK\n",
      "47  - Company is MiQ\n",
      "48  - Company is StarLeaf\n",
      "49  - Company is BigChange\n",
      "50  - Company is The Lead Agency\n",
      "51  - Company is UNiDAYS\n",
      "52  - Company is Farfetch\n",
      "53  - Company is Assetz Capital\n",
      "54  - Company is iPulse\n",
      "55  - Company is Giacom\n",
      "56  - Company is Arcus Global\n",
      "57  - Company is disguise\n",
      "58  - Company is Tech21\n",
      "59  - Company is Victor\n",
      "60  - Company is Cinesite\n",
      "61  - Company is Biosite Systems\n",
      "62  - Company is Ecometrica\n",
      "63  - Company is Qualasept Pharmaxo\n",
      "64  - Company is Edesix\n",
      "65  - Company is LendInvest\n",
      "66  - Company is E3D Online\n",
      "67  - Company is Lyst\n",
      "68  - Company is Diaceutics\n",
      "69  - Company is Amplience\n",
      "70  - Company is GlucoRx\n",
      "71  - Company is Love Energy Savings\n",
      "72  - Company is Creative Virtual\n",
      "73  - Company is Ebury\n",
      "74  - Company is ZappiStore\n",
      "75  - Company is Blis\n",
      "76  - Company is BookingBug\n",
      "77  - Company is Egress\n",
      "78  - Company is Contis Group\n",
      "79  - Company is PM Connect\n",
      "80  - Company is Zopa\n",
      "81  - Company is WorldRemit\n",
      "82  - Company is Dianomi\n",
      "83  - Company is Liberis\n",
      "84  - Company is Currencycloud\n",
      "85  - Company is Featurespace\n",
      "86  - Company is Cloud Technology Solutions\n",
      "87  - Company is Leisure Pass Group\n",
      "88  - Company is rradar\n",
      "89  - Company is Converge TS\n",
      "90  - Company is Kimble Applications\n",
      "91  - Company is Paymentsense\n",
      "92  - Company is Godel Technologies\n",
      "93  - Company is Secret Escapes\n",
      "94  - Company is Neuven\n",
      "95  - Company is CitNOW\n",
      "96  - Company is geo\n",
      "97  - Company is Vision RT\n",
      "98  - Company is Thread\n",
      "99  - Company is The Media Image\n",
      "100  - Company is Brompton Technology\n"
     ]
    }
   ],
   "source": [
    "for num, result in enumerate(results):\n",
    "    data = result.find_all('td')\n",
    "    if len(data) == 0:\n",
    "        continue\n",
    "    rank = data[0].getText()\n",
    "    company = data[1].getText()\n",
    "    location = data[2].getText()\n",
    "    yearend = data[3].getText()\n",
    "    salesrise = data[4].getText()\n",
    "    sales = data[5].getText()\n",
    "    staff = data[6].getText()\n",
    "    comments = data[7].getText()\n",
    "    \n",
    "    companyname = data[1].find('span', class_='company-name').getText()\n",
    "    description = company.replace(companyname, '')\n",
    "    print(num, ' - Company is', companyname)\n",
    "    \n",
    "    sales = sales.strip('*').replace(',','')\n",
    "    \n",
    "    url = data[1].find('a').get('href')\n",
    "    page = requests.get(url)\n",
    "    soup = BeautifulSoup(page.text, 'html.parser')\n",
    "    \n",
    "    try:\n",
    "        tableRow = soup.find('table').find_all('tr')[-1]\n",
    "        webpage = tableRow.find('a').get('href')\n",
    "    except:\n",
    "        webpage = None\n",
    "    \n",
    "    rows.append([rank, companyname, webpage, description, location, yearend,\n",
    "                salesrise, sales, staff, comments])"
   ]
  },
  {
   "cell_type": "code",
   "execution_count": 130,
   "metadata": {},
   "outputs": [],
   "source": [
    "with open('OUT_companies.csv', 'w', newline='') as f_output:\n",
    "    csv_output = csv.writer(f_output)\n",
    "    csv_output.writerows(rows)"
   ]
  },
  {
   "cell_type": "code",
   "execution_count": 131,
   "metadata": {},
   "outputs": [
    {
     "data": {
      "text/html": [
       "<div>\n",
       "<style scoped>\n",
       "    .dataframe tbody tr th:only-of-type {\n",
       "        vertical-align: middle;\n",
       "    }\n",
       "\n",
       "    .dataframe tbody tr th {\n",
       "        vertical-align: top;\n",
       "    }\n",
       "\n",
       "    .dataframe thead th {\n",
       "        text-align: right;\n",
       "    }\n",
       "</style>\n",
       "<table border=\"1\" class=\"dataframe\">\n",
       "  <thead>\n",
       "    <tr style=\"text-align: right;\">\n",
       "      <th></th>\n",
       "      <th>Rank</th>\n",
       "      <th>Company Name</th>\n",
       "      <th>Webpage</th>\n",
       "      <th>Description</th>\n",
       "      <th>Location</th>\n",
       "      <th>Year End</th>\n",
       "      <th>Annual sales rise over 3 years</th>\n",
       "      <th>Sales £000s</th>\n",
       "      <th>Staff</th>\n",
       "      <th>Comments</th>\n",
       "    </tr>\n",
       "  </thead>\n",
       "  <tbody>\n",
       "    <tr>\n",
       "      <th>0</th>\n",
       "      <td>1</td>\n",
       "      <td>Plan.com</td>\n",
       "      <td>http://www.plan.com</td>\n",
       "      <td>Communications provider</td>\n",
       "      <td>Isle of Man</td>\n",
       "      <td>Sep-17</td>\n",
       "      <td>364.38%</td>\n",
       "      <td>35418</td>\n",
       "      <td>90</td>\n",
       "      <td>About 650 partners use its telecoms platform t...</td>\n",
       "    </tr>\n",
       "    <tr>\n",
       "      <th>1</th>\n",
       "      <td>2</td>\n",
       "      <td>PsiOxus</td>\n",
       "      <td>http://www.psioxus.com</td>\n",
       "      <td>Biotechnology developer</td>\n",
       "      <td>Oxfordshire</td>\n",
       "      <td>Dec-17</td>\n",
       "      <td>311.67%</td>\n",
       "      <td>53136</td>\n",
       "      <td>54</td>\n",
       "      <td>Received a $15m milestone payment from its dev...</td>\n",
       "    </tr>\n",
       "    <tr>\n",
       "      <th>2</th>\n",
       "      <td>3</td>\n",
       "      <td>CensorNet</td>\n",
       "      <td>http://www.censornet.com</td>\n",
       "      <td>Cloud security software developer</td>\n",
       "      <td>Basingstoke</td>\n",
       "      <td>Dec-17</td>\n",
       "      <td>210.17%</td>\n",
       "      <td>7535</td>\n",
       "      <td>77</td>\n",
       "      <td>Has more than 4,000 customers, including McDon...</td>\n",
       "    </tr>\n",
       "    <tr>\n",
       "      <th>3</th>\n",
       "      <td>4</td>\n",
       "      <td>thoughtonomy</td>\n",
       "      <td>http://www.thoughtonomy.com</td>\n",
       "      <td>Automation software developer</td>\n",
       "      <td>East London</td>\n",
       "      <td>May-18</td>\n",
       "      <td>205.20%</td>\n",
       "      <td>16916</td>\n",
       "      <td>100</td>\n",
       "      <td>It sells to 28 countries and 50% of revenue is...</td>\n",
       "    </tr>\n",
       "    <tr>\n",
       "      <th>4</th>\n",
       "      <td>5</td>\n",
       "      <td>Perkbox</td>\n",
       "      <td>http://www.perkbox.com</td>\n",
       "      <td>Employee engagement services</td>\n",
       "      <td>Central London</td>\n",
       "      <td>Dec-17</td>\n",
       "      <td>204.12%</td>\n",
       "      <td>34700</td>\n",
       "      <td>200</td>\n",
       "      <td>Acquired software platform Loyalty Bay for an ...</td>\n",
       "    </tr>\n",
       "  </tbody>\n",
       "</table>\n",
       "</div>"
      ],
      "text/plain": [
       "   Rank  Company Name                      Webpage  \\\n",
       "0     1      Plan.com          http://www.plan.com   \n",
       "1     2       PsiOxus       http://www.psioxus.com   \n",
       "2     3     CensorNet     http://www.censornet.com   \n",
       "3     4  thoughtonomy  http://www.thoughtonomy.com   \n",
       "4     5       Perkbox       http://www.perkbox.com   \n",
       "\n",
       "                         Description        Location Year End  \\\n",
       "0            Communications provider     Isle of Man   Sep-17   \n",
       "1            Biotechnology developer     Oxfordshire   Dec-17   \n",
       "2  Cloud security software developer     Basingstoke   Dec-17   \n",
       "3      Automation software developer     East London   May-18   \n",
       "4       Employee engagement services  Central London   Dec-17   \n",
       "\n",
       "  Annual sales rise over 3 years Sales £000s Staff  \\\n",
       "0                        364.38%       35418    90   \n",
       "1                        311.67%       53136    54   \n",
       "2                        210.17%        7535    77   \n",
       "3                        205.20%       16916   100   \n",
       "4                        204.12%       34700   200   \n",
       "\n",
       "                                            Comments  \n",
       "0  About 650 partners use its telecoms platform t...  \n",
       "1  Received a $15m milestone payment from its dev...  \n",
       "2  Has more than 4,000 customers, including McDon...  \n",
       "3  It sells to 28 countries and 50% of revenue is...  \n",
       "4  Acquired software platform Loyalty Bay for an ...  "
      ]
     },
     "execution_count": 131,
     "metadata": {},
     "output_type": "execute_result"
    }
   ],
   "source": [
    "df = pd.read_csv('OUT_companies.csv')\n",
    "df.head()"
   ]
  }
 ],
 "metadata": {
  "kernelspec": {
   "display_name": "Python 3",
   "language": "python",
   "name": "python3"
  },
  "language_info": {
   "codemirror_mode": {
    "name": "ipython",
    "version": 3
   },
   "file_extension": ".py",
   "mimetype": "text/x-python",
   "name": "python",
   "nbconvert_exporter": "python",
   "pygments_lexer": "ipython3",
   "version": "3.7.0"
  }
 },
 "nbformat": 4,
 "nbformat_minor": 2
}
