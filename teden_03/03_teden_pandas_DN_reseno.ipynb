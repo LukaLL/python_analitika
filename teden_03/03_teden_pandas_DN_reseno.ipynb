{
 "cells": [
  {
   "cell_type": "code",
   "execution_count": 1,
   "metadata": {},
   "outputs": [],
   "source": [
    "import numpy as np\n",
    "import pandas as pd"
   ]
  },
  {
   "cell_type": "markdown",
   "metadata": {},
   "source": [
    "# Uvod v pandas - Domača naloga "
   ]
  },
  {
   "cell_type": "markdown",
   "metadata": {},
   "source": [
    "[Vir](https://www.machinelearningplus.com/python/101-pandas-exercises-python/)"
   ]
  },
  {
   "cell_type": "markdown",
   "metadata": {},
   "source": [
    "### 1. How to combine many series to form a dataframe?\n",
    "\n",
    "Combine ser1 and ser2 to form a dataframe.\n"
   ]
  },
  {
   "cell_type": "code",
   "execution_count": 4,
   "metadata": {},
   "outputs": [],
   "source": [
    "ser1 = pd.Series(list('abcedfghijklmnopqrstuvwxyz'))\n",
    "ser2 = pd.Concat(np.arange(26))"
   ]
  },
  {
   "cell_type": "code",
   "execution_count": 11,
   "metadata": {},
   "outputs": [
    {
     "name": "stdout",
     "output_type": "stream",
     "text": [
      "    0   1\n",
      "0   a   0\n",
      "1   b   1\n",
      "2   c   2\n",
      "3   e   3\n",
      "4   d   4\n",
      "5   f   5\n",
      "6   g   6\n",
      "7   h   7\n",
      "8   i   8\n",
      "9   j   9\n",
      "10  k  10\n",
      "11  l  11\n",
      "12  m  12\n",
      "13  n  13\n",
      "14  o  14\n",
      "15  p  15\n",
      "16  q  16\n",
      "17  r  17\n",
      "18  s  18\n",
      "19  t  19\n",
      "20  u  20\n",
      "21  v  21\n",
      "22  w  22\n",
      "23  x  23\n",
      "24  y  24\n",
      "25  z  25 <class 'pandas.core.frame.DataFrame'>\n"
     ]
    }
   ],
   "source": [
    "#Rešitev\n",
    "df = pd.concat([ser1,ser2], axis=1)\n",
    "print(df, type(df))"
   ]
  },
  {
   "cell_type": "markdown",
   "metadata": {},
   "source": [
    "### 2. How to assign name to the series’ index?\n",
    "\n",
    "Give a name to the series ser calling it ‘alphabets’."
   ]
  },
  {
   "cell_type": "code",
   "execution_count": 12,
   "metadata": {},
   "outputs": [],
   "source": [
    "ser = pd.Series(list('abcedfghijklmnopqrstuvwxyz'))"
   ]
  },
  {
   "cell_type": "code",
   "execution_count": 20,
   "metadata": {},
   "outputs": [
    {
     "name": "stdout",
     "output_type": "stream",
     "text": [
      "alphabets index\n",
      "0     a\n",
      "1     b\n",
      "2     c\n",
      "3     e\n",
      "4     d\n",
      "5     f\n",
      "6     g\n",
      "7     h\n",
      "8     i\n",
      "9     j\n",
      "10    k\n",
      "11    l\n",
      "12    m\n",
      "13    n\n",
      "14    o\n",
      "15    p\n",
      "16    q\n",
      "17    r\n",
      "18    s\n",
      "19    t\n",
      "20    u\n",
      "21    v\n",
      "22    w\n",
      "23    x\n",
      "24    y\n",
      "25    z\n",
      "dtype: object\n"
     ]
    }
   ],
   "source": [
    "#Rešitev\n",
    "ser.rename = 'alphabets'\n",
    "ser.index.name = 'alphabets index'\n",
    "print(ser)"
   ]
  },
  {
   "cell_type": "markdown",
   "metadata": {},
   "source": [
    "### 3. How to get the items of series A not present in series B?\n"
   ]
  },
  {
   "cell_type": "markdown",
   "metadata": {},
   "source": [
    "From ser1 remove items present in ser2.\n",
    "\n",
    "**Pomoč:** Metoda .isin()"
   ]
  },
  {
   "cell_type": "code",
   "execution_count": 21,
   "metadata": {},
   "outputs": [],
   "source": [
    "ser1 = pd.Series([1, 2, 3, 4, 5])\n",
    "ser2 = pd.Series([4, 5, 6, 7, 8])"
   ]
  },
  {
   "cell_type": "code",
   "execution_count": 23,
   "metadata": {},
   "outputs": [
    {
     "name": "stdout",
     "output_type": "stream",
     "text": [
      "0    1\n",
      "1    2\n",
      "2    3\n",
      "dtype: int64\n"
     ]
    }
   ],
   "source": [
    "#Rešitev\n",
    "ni_v_b = ser1[~ser1.isin(ser2)]\n",
    "print(ni_v_b)"
   ]
  },
  {
   "cell_type": "markdown",
   "metadata": {},
   "source": [
    "### 4. How to get frequency counts of unique items of a series?\n",
    "\n"
   ]
  },
  {
   "cell_type": "markdown",
   "metadata": {},
   "source": [
    "Calculte the frequency counts of each unique value ser."
   ]
  },
  {
   "cell_type": "code",
   "execution_count": 24,
   "metadata": {},
   "outputs": [],
   "source": [
    "ser = pd.Series(np.take(list('abcdefgh'), np.random.randint(8, size=30)))"
   ]
  },
  {
   "cell_type": "code",
   "execution_count": 26,
   "metadata": {},
   "outputs": [
    {
     "data": {
      "text/plain": [
       "e    7\n",
       "h    6\n",
       "d    4\n",
       "b    4\n",
       "g    3\n",
       "f    3\n",
       "c    2\n",
       "a    1\n",
       "dtype: int64"
      ]
     },
     "execution_count": 26,
     "metadata": {},
     "output_type": "execute_result"
    }
   ],
   "source": [
    "#Rešitev\n",
    "ser.value_counts()"
   ]
  },
  {
   "cell_type": "markdown",
   "metadata": {},
   "source": [
    "### 5. How to keep only top 2 most frequent values as it is and replace everything else as ‘Other’?"
   ]
  },
  {
   "cell_type": "markdown",
   "metadata": {},
   "source": [
    "From ser, keep the top 2 most frequent items as it is and replace everything else as ‘Other’."
   ]
  },
  {
   "cell_type": "code",
   "execution_count": 51,
   "metadata": {},
   "outputs": [],
   "source": [
    "np.random.RandomState(100)\n",
    "ser = pd.Series(np.random.randint(1, 5, [12]))"
   ]
  },
  {
   "cell_type": "code",
   "execution_count": 52,
   "metadata": {},
   "outputs": [
    {
     "data": {
      "text/plain": [
       "0     Other\n",
       "1     Other\n",
       "2     Other\n",
       "3         1\n",
       "4         2\n",
       "5         1\n",
       "6         1\n",
       "7         1\n",
       "8     Other\n",
       "9         2\n",
       "10    Other\n",
       "11        2\n",
       "dtype: object"
      ]
     },
     "execution_count": 52,
     "metadata": {},
     "output_type": "execute_result"
    }
   ],
   "source": [
    "#Rešitev\n",
    "freq = ser.value_counts()[:2]\n",
    "ser[ser.isin(freq)] = 'Other'\n",
    "ser"
   ]
  },
  {
   "cell_type": "markdown",
   "metadata": {},
   "source": [
    "### 6. How to extract items at given positions from a series"
   ]
  },
  {
   "cell_type": "markdown",
   "metadata": {},
   "source": [
    "From ser, extract the items at positions in list pos.\n",
    "\n",
    "**Pomoč:** Metoda .take()"
   ]
  },
  {
   "cell_type": "code",
   "execution_count": 53,
   "metadata": {},
   "outputs": [],
   "source": [
    "ser = pd.Series(list('abcdefghijklmnopqrstuvwxyz'))\n",
    "pos = [0, 4, 8, 14, 20]"
   ]
  },
  {
   "cell_type": "code",
   "execution_count": 54,
   "metadata": {},
   "outputs": [
    {
     "data": {
      "text/plain": [
       "0     a\n",
       "4     e\n",
       "8     i\n",
       "14    o\n",
       "20    u\n",
       "dtype: object"
      ]
     },
     "execution_count": 54,
     "metadata": {},
     "output_type": "execute_result"
    }
   ],
   "source": [
    "#Rešitev\n",
    "ser.take(pos)"
   ]
  },
  {
   "cell_type": "markdown",
   "metadata": {},
   "source": [
    "### 7. How to convert the first character of each element in a series to uppercase?"
   ]
  },
  {
   "cell_type": "markdown",
   "metadata": {},
   "source": [
    "Change the first character of each word to upper case in each word of ser."
   ]
  },
  {
   "cell_type": "code",
   "execution_count": 56,
   "metadata": {},
   "outputs": [],
   "source": [
    "ser = pd.Series(['how', 'to', 'kick', 'ass?'])"
   ]
  },
  {
   "cell_type": "code",
   "execution_count": 60,
   "metadata": {},
   "outputs": [
    {
     "data": {
      "text/plain": [
       "0     How\n",
       "1      To\n",
       "2    Kick\n",
       "3    Ass?\n",
       "dtype: object"
      ]
     },
     "execution_count": 60,
     "metadata": {},
     "output_type": "execute_result"
    }
   ],
   "source": [
    "#Rešitev\n",
    "ser.str.capitalize()\n"
   ]
  },
  {
   "cell_type": "markdown",
   "metadata": {},
   "source": [
    "### 8. How to convert a series of date-strings to a timeseries?"
   ]
  },
  {
   "cell_type": "code",
   "execution_count": 61,
   "metadata": {},
   "outputs": [],
   "source": [
    "ser = pd.Series(['01 Jan 2010', '02-02-2011', '20120303', \n",
    "                 '2013/04/04', '2014-05-05', '2015-06-06T12:20'])"
   ]
  },
  {
   "cell_type": "markdown",
   "metadata": {},
   "source": [
    "Desired Output:\n",
    "```\n",
    "0   2010-01-01 00:00:00\n",
    "1   2011-02-02 00:00:00\n",
    "2   2012-03-03 00:00:00\n",
    "3   2013-04-04 00:00:00\n",
    "4   2014-05-05 00:00:00\n",
    "5   2015-06-06 12:20:00\n",
    "dtype: datetime64[ns]\n",
    "```"
   ]
  },
  {
   "cell_type": "code",
   "execution_count": 64,
   "metadata": {},
   "outputs": [
    {
     "data": {
      "text/plain": [
       "0   2010-01-01 00:00:00\n",
       "1   2011-02-02 00:00:00\n",
       "2   2012-03-03 00:00:00\n",
       "3   2013-04-04 00:00:00\n",
       "4   2014-05-05 00:00:00\n",
       "5   2015-06-06 12:20:00\n",
       "dtype: datetime64[ns]"
      ]
     },
     "execution_count": 64,
     "metadata": {},
     "output_type": "execute_result"
    }
   ],
   "source": [
    "#Rešitev\n",
    "pd.to_datetime(ser)"
   ]
  },
  {
   "cell_type": "markdown",
   "metadata": {},
   "source": [
    "### 9.  How to get the day of month, week number, day of year and day of week from a series of date strings?"
   ]
  },
  {
   "cell_type": "markdown",
   "metadata": {},
   "source": [
    "Get the day of month, week number, day of year and day of week from ser."
   ]
  },
  {
   "cell_type": "code",
   "execution_count": 71,
   "metadata": {},
   "outputs": [],
   "source": [
    "ser = pd.Series(['01 Jan 2010', '02-02-2011', '20120303', \n",
    "                 '2013/04/04', '2014-05-05', '2015-06-06T12:20'])"
   ]
  },
  {
   "cell_type": "markdown",
   "metadata": {},
   "source": [
    "Desired Output:\n",
    "```\n",
    "Date:  [1, 2, 3, 4, 5, 6]\n",
    "Week number:  [53, 5, 9, 14, 19, 23]\n",
    "Day num of year:  [1, 33, 63, 94, 125, 157]\n",
    "Day of week:  ['Friday', 'Wednesday', 'Saturday', 'Thursday', 'Monday', 'Saturday']\n",
    "```"
   ]
  },
  {
   "cell_type": "code",
   "execution_count": 85,
   "metadata": {},
   "outputs": [
    {
     "name": "stdout",
     "output_type": "stream",
     "text": [
      "Date: [1, 2, 3, 4, 5, 6]\n",
      "Week number: [53, 5, 9, 14, 19, 23]\n",
      "Day num of year: [1, 33, 63, 94, 125, 157]\n",
      "Day of week: ['Friday', 'Wednesday', 'Saturday', 'Thursday', 'Monday', 'Saturday']\n"
     ]
    }
   ],
   "source": [
    "#Rešitev\n",
    "ser\n",
    "#ser = pd.to_datetime(ser)\n",
    "print('Date: '+str(ser.dt.day.tolist()))\n",
    "print('Week number: '+str(ser.dt.week.tolist()))\n",
    "print('Day num of year: '+str(ser.dt.dayofyear.tolist()))\n",
    "print('Day of week: '+str(ser.dt.day_name().tolist()))"
   ]
  },
  {
   "cell_type": "markdown",
   "metadata": {},
   "source": [
    "### 10. How to filter valid emails from a series?"
   ]
  },
  {
   "cell_type": "markdown",
   "metadata": {},
   "source": [
    "Extract the valid emails from the series emails. The regex pattern for valid emails is provided as reference."
   ]
  },
  {
   "cell_type": "code",
   "execution_count": 86,
   "metadata": {},
   "outputs": [],
   "source": [
    "emails = pd.Series(['buying books at amazom.com', 'rameses@egypt.com', 'matt@t.co', 'narendra@modi.com'])\n",
    "pattern ='[A-Za-z0-9._%+-]+@[A-Za-z0-9.-]+\\\\.[A-Za-z]{2,4}'"
   ]
  },
  {
   "cell_type": "code",
   "execution_count": 90,
   "metadata": {},
   "outputs": [
    {
     "data": {
      "text/plain": [
       "1    rameses@egypt.com\n",
       "2            matt@t.co\n",
       "3    narendra@modi.com\n",
       "dtype: object"
      ]
     },
     "execution_count": 90,
     "metadata": {},
     "output_type": "execute_result"
    }
   ],
   "source": [
    "#Rešitev\n",
    "emails[emails.str.contains(pattern)]"
   ]
  },
  {
   "cell_type": "markdown",
   "metadata": {},
   "source": [
    "### 11. How to change column values when importing csv to a dataframe?"
   ]
  },
  {
   "cell_type": "markdown",
   "metadata": {},
   "source": [
    "Import the boston housing dataset, but while importing change the 'medv' (median house value) column so that values < 25 becomes ‘Low’ and > 25 becomes ‘High’.\n",
    "\n"
   ]
  },
  {
   "cell_type": "markdown",
   "metadata": {},
   "source": [
    "> Dataset: https://raw.githubusercontent.com/selva86/datasets/master/BostonHousing.csv"
   ]
  },
  {
   "cell_type": "markdown",
   "metadata": {},
   "source": [
    "**Pomoč:** Uporaba parametra converter v read_csv() funkciji."
   ]
  },
  {
   "cell_type": "code",
   "execution_count": 48,
   "metadata": {},
   "outputs": [
    {
     "name": "stdout",
     "output_type": "stream",
     "text": [
      "      crim    zn  indus  chas    nox     rm   age     dis  rad  tax  ptratio  \\\n",
      "0  0.00632  18.0   2.31     0  0.538  6.575  65.2  4.0900    1  296     15.3   \n",
      "1  0.02731   0.0   7.07     0  0.469  6.421  78.9  4.9671    2  242     17.8   \n",
      "2  0.02729   0.0   7.07     0  0.469  7.185  61.1  4.9671    2  242     17.8   \n",
      "3  0.03237   0.0   2.18     0  0.458  6.998  45.8  6.0622    3  222     18.7   \n",
      "4  0.06905   0.0   2.18     0  0.458  7.147  54.2  6.0622    3  222     18.7   \n",
      "\n",
      "        b  lstat  medv  \n",
      "0  396.90   4.98   Low  \n",
      "1  396.90   9.14   Low  \n",
      "2  392.83   4.03  High  \n",
      "3  394.63   2.94  High  \n",
      "4  396.90   5.33  High  \n"
     ]
    }
   ],
   "source": [
    "#Rešitev\n",
    "f = lambda x: 'High' if float(x) > 25 else 'Low'\n",
    "df = pd.read_csv('https://raw.githubusercontent.com/selva86/datasets/master/BostonHousing.csv',converters={'medv': f})\n",
    "print(df.head())"
   ]
  },
  {
   "cell_type": "markdown",
   "metadata": {},
   "source": [
    "### 12. How to import only specified columns from a csv file?\n"
   ]
  },
  {
   "cell_type": "markdown",
   "metadata": {},
   "source": [
    "Import ‘crim’ and ‘medv’ columns of the BostonHousing dataset as a dataframe.\n",
    "\n"
   ]
  },
  {
   "cell_type": "markdown",
   "metadata": {},
   "source": [
    "> Dataset: https://raw.githubusercontent.com/selva86/datasets/master/BostonHousing.csv"
   ]
  },
  {
   "cell_type": "code",
   "execution_count": 119,
   "metadata": {},
   "outputs": [
    {
     "name": "stdout",
     "output_type": "stream",
     "text": [
      "      crim  medv\n",
      "0  0.00632  24.0\n",
      "1  0.02731  21.6\n",
      "2  0.02729  34.7\n",
      "3  0.03237  33.4\n",
      "4  0.06905  36.2\n"
     ]
    }
   ],
   "source": [
    "#Rešitev\n",
    "df = pd.read_csv('https://raw.githubusercontent.com/selva86/datasets/master/BostonHousing.csv', usecols=['crim', 'medv'])\n",
    "print(df.head())"
   ]
  },
  {
   "cell_type": "markdown",
   "metadata": {},
   "source": [
    "### 12. How to check if a dataframe has any missing values?"
   ]
  },
  {
   "cell_type": "markdown",
   "metadata": {},
   "source": [
    "Check if df has any missing values."
   ]
  },
  {
   "cell_type": "code",
   "execution_count": 120,
   "metadata": {},
   "outputs": [],
   "source": [
    "df = pd.read_csv('https://raw.githubusercontent.com/selva86/datasets/master/Cars93_miss.csv')"
   ]
  },
  {
   "cell_type": "code",
   "execution_count": 121,
   "metadata": {},
   "outputs": [
    {
     "data": {
      "text/plain": [
       "True"
      ]
     },
     "execution_count": 121,
     "metadata": {},
     "output_type": "execute_result"
    }
   ],
   "source": [
    "#Rešitev\n",
    "df.isnull().values.any()"
   ]
  },
  {
   "cell_type": "markdown",
   "metadata": {},
   "source": [
    "## Dodaten izziv\n",
    "The following code loads the olympics dataset (olympics.csv), which was derrived from the Wikipedia entry on [All Time Olympic Games Medals](https://en.wikipedia.org/wiki/All-time_Olympic_Games_medal_table), and does some basic data cleaning. \n",
    "\n",
    "The columns are organized as # of Summer games, Summer medals, # of Winter games, Winter medals, total # number of games, total # of medals. Use this dataset to answer the questions below."
   ]
  },
  {
   "cell_type": "code",
   "execution_count": 7,
   "metadata": {
    "nbgrader": {
     "grade": false,
     "grade_id": "1",
     "locked": false,
     "solution": false
    },
    "umich_question": "prolog-000"
   },
   "outputs": [
    {
     "data": {
      "text/html": [
       "<div>\n",
       "<style scoped>\n",
       "    .dataframe tbody tr th:only-of-type {\n",
       "        vertical-align: middle;\n",
       "    }\n",
       "\n",
       "    .dataframe tbody tr th {\n",
       "        vertical-align: top;\n",
       "    }\n",
       "\n",
       "    .dataframe thead th {\n",
       "        text-align: right;\n",
       "    }\n",
       "</style>\n",
       "<table border=\"1\" class=\"dataframe\">\n",
       "  <thead>\n",
       "    <tr style=\"text-align: right;\">\n",
       "      <th></th>\n",
       "      <th>? Summer</th>\n",
       "      <th>Gold</th>\n",
       "      <th>Silver</th>\n",
       "      <th>Bronze</th>\n",
       "      <th>Total</th>\n",
       "      <th>? Winter</th>\n",
       "      <th>Gold.1</th>\n",
       "      <th>Silver.1</th>\n",
       "      <th>Bronze.1</th>\n",
       "      <th>Total.1</th>\n",
       "      <th>? Games</th>\n",
       "      <th>Gold.2</th>\n",
       "      <th>Silver.2</th>\n",
       "      <th>Bronze.2</th>\n",
       "      <th>Combined total</th>\n",
       "      <th>ID</th>\n",
       "    </tr>\n",
       "  </thead>\n",
       "  <tbody>\n",
       "    <tr>\n",
       "      <th>Afghanistan</th>\n",
       "      <td>13</td>\n",
       "      <td>0</td>\n",
       "      <td>0</td>\n",
       "      <td>2</td>\n",
       "      <td>2</td>\n",
       "      <td>0</td>\n",
       "      <td>0</td>\n",
       "      <td>0</td>\n",
       "      <td>0</td>\n",
       "      <td>0</td>\n",
       "      <td>13</td>\n",
       "      <td>0</td>\n",
       "      <td>0</td>\n",
       "      <td>2</td>\n",
       "      <td>2</td>\n",
       "      <td>AFG</td>\n",
       "    </tr>\n",
       "    <tr>\n",
       "      <th>Algeria</th>\n",
       "      <td>12</td>\n",
       "      <td>5</td>\n",
       "      <td>2</td>\n",
       "      <td>8</td>\n",
       "      <td>15</td>\n",
       "      <td>3</td>\n",
       "      <td>0</td>\n",
       "      <td>0</td>\n",
       "      <td>0</td>\n",
       "      <td>0</td>\n",
       "      <td>15</td>\n",
       "      <td>5</td>\n",
       "      <td>2</td>\n",
       "      <td>8</td>\n",
       "      <td>15</td>\n",
       "      <td>ALG</td>\n",
       "    </tr>\n",
       "    <tr>\n",
       "      <th>Argentina</th>\n",
       "      <td>23</td>\n",
       "      <td>18</td>\n",
       "      <td>24</td>\n",
       "      <td>28</td>\n",
       "      <td>70</td>\n",
       "      <td>18</td>\n",
       "      <td>0</td>\n",
       "      <td>0</td>\n",
       "      <td>0</td>\n",
       "      <td>0</td>\n",
       "      <td>41</td>\n",
       "      <td>18</td>\n",
       "      <td>24</td>\n",
       "      <td>28</td>\n",
       "      <td>70</td>\n",
       "      <td>ARG</td>\n",
       "    </tr>\n",
       "    <tr>\n",
       "      <th>Armenia</th>\n",
       "      <td>5</td>\n",
       "      <td>1</td>\n",
       "      <td>2</td>\n",
       "      <td>9</td>\n",
       "      <td>12</td>\n",
       "      <td>6</td>\n",
       "      <td>0</td>\n",
       "      <td>0</td>\n",
       "      <td>0</td>\n",
       "      <td>0</td>\n",
       "      <td>11</td>\n",
       "      <td>1</td>\n",
       "      <td>2</td>\n",
       "      <td>9</td>\n",
       "      <td>12</td>\n",
       "      <td>ARM</td>\n",
       "    </tr>\n",
       "    <tr>\n",
       "      <th>Australasia</th>\n",
       "      <td>2</td>\n",
       "      <td>3</td>\n",
       "      <td>4</td>\n",
       "      <td>5</td>\n",
       "      <td>12</td>\n",
       "      <td>0</td>\n",
       "      <td>0</td>\n",
       "      <td>0</td>\n",
       "      <td>0</td>\n",
       "      <td>0</td>\n",
       "      <td>2</td>\n",
       "      <td>3</td>\n",
       "      <td>4</td>\n",
       "      <td>5</td>\n",
       "      <td>12</td>\n",
       "      <td>ANZ</td>\n",
       "    </tr>\n",
       "  </tbody>\n",
       "</table>\n",
       "</div>"
      ],
      "text/plain": [
       "             ? Summer  Gold  Silver  Bronze  Total  ? Winter  Gold.1  \\\n",
       "Afghanistan        13     0       0       2      2         0       0   \n",
       "Algeria            12     5       2       8     15         3       0   \n",
       "Argentina          23    18      24      28     70        18       0   \n",
       "Armenia             5     1       2       9     12         6       0   \n",
       "Australasia         2     3       4       5     12         0       0   \n",
       "\n",
       "             Silver.1  Bronze.1  Total.1  ? Games  Gold.2  Silver.2  Bronze.2  \\\n",
       "Afghanistan         0         0        0       13       0         0         2   \n",
       "Algeria             0         0        0       15       5         2         8   \n",
       "Argentina           0         0        0       41      18        24        28   \n",
       "Armenia             0         0        0       11       1         2         9   \n",
       "Australasia         0         0        0        2       3         4         5   \n",
       "\n",
       "             Combined total   ID  \n",
       "Afghanistan               2  AFG  \n",
       "Algeria                  15  ALG  \n",
       "Argentina                70  ARG  \n",
       "Armenia                  12  ARM  \n",
       "Australasia              12  ANZ  "
      ]
     },
     "execution_count": 7,
     "metadata": {},
     "output_type": "execute_result"
    }
   ],
   "source": [
    "import pandas as pd\n",
    "\n",
    "df = pd.read_csv('data/DN_olympics.csv', index_col=0, skiprows=1)\n",
    "\n",
    "for col in df.columns:\n",
    "    if col[:2]=='01':\n",
    "        df.rename(columns={col:'Gold'+col[4:]}, inplace=True)\n",
    "    if col[:2]=='02':\n",
    "        df.rename(columns={col:'Silver'+col[4:]}, inplace=True)\n",
    "    if col[:2]=='03':\n",
    "        df.rename(columns={col:'Bronze'+col[4:]}, inplace=True)\n",
    "    if col[:1]=='№':\n",
    "        df.rename(columns={col:'#'+col[1:]}, inplace=True)\n",
    "\n",
    "names_ids = df.index.str.split('\\s\\(') # split the index by '('\n",
    "\n",
    "df.index = names_ids.str[0] # the [0] element is the country name (new index) \n",
    "df['ID'] = names_ids.str[1].str[:3] # the [1] element is the abbreviation or ID (take first 3 characters from that)\n",
    "\n",
    "df = df.drop('Totals')\n",
    "df.head()"
   ]
  },
  {
   "cell_type": "markdown",
   "metadata": {},
   "source": [
    "### Question 0 (Example)\n",
    "\n",
    "What is the first country in df?\n",
    "\n",
    "*This function should return a Series.*"
   ]
  },
  {
   "cell_type": "code",
   "execution_count": 5,
   "metadata": {
    "umich_question": "000"
   },
   "outputs": [
    {
     "data": {
      "text/plain": [
       "? Summer           13\n",
       "Gold                0\n",
       "Silver              0\n",
       "Bronze              2\n",
       "Total               2\n",
       "? Winter            0\n",
       "Gold.1              0\n",
       "Silver.1            0\n",
       "Bronze.1            0\n",
       "Total.1             0\n",
       "? Games            13\n",
       "Gold.2              0\n",
       "Silver.2            0\n",
       "Bronze.2            2\n",
       "Combined total      2\n",
       "ID                AFG\n",
       "Name: Afghanistan, dtype: object"
      ]
     },
     "execution_count": 5,
     "metadata": {},
     "output_type": "execute_result"
    }
   ],
   "source": [
    "# You should write your whole answer within the function provided.\n",
    "def answer_zero():\n",
    "    # This function returns the row for Afghanistan, which is a Series object. The assignment\n",
    "    # question description will tell you the general format the autograder is expecting\n",
    "    return df.iloc[0]\n",
    "\n",
    "# You can examine what your function returns by calling it in the cell. If you have questions\n",
    "# about the assignment formats, check out the discussion forums for any FAQs\n",
    "answer_zero() "
   ]
  },
  {
   "cell_type": "code",
   "execution_count": 14,
   "metadata": {},
   "outputs": [
    {
     "data": {
      "text/html": [
       "<div>\n",
       "<style scoped>\n",
       "    .dataframe tbody tr th:only-of-type {\n",
       "        vertical-align: middle;\n",
       "    }\n",
       "\n",
       "    .dataframe tbody tr th {\n",
       "        vertical-align: top;\n",
       "    }\n",
       "\n",
       "    .dataframe thead th {\n",
       "        text-align: right;\n",
       "    }\n",
       "</style>\n",
       "<table border=\"1\" class=\"dataframe\">\n",
       "  <thead>\n",
       "    <tr style=\"text-align: right;\">\n",
       "      <th></th>\n",
       "      <th>? Summer</th>\n",
       "      <th>Gold</th>\n",
       "      <th>Silver</th>\n",
       "      <th>Bronze</th>\n",
       "      <th>Total</th>\n",
       "      <th>? Winter</th>\n",
       "      <th>Gold.1</th>\n",
       "      <th>Silver.1</th>\n",
       "      <th>Bronze.1</th>\n",
       "      <th>Total.1</th>\n",
       "      <th>? Games</th>\n",
       "      <th>Gold.2</th>\n",
       "      <th>Silver.2</th>\n",
       "      <th>Bronze.2</th>\n",
       "      <th>Combined total</th>\n",
       "      <th>ID</th>\n",
       "    </tr>\n",
       "  </thead>\n",
       "  <tbody>\n",
       "    <tr>\n",
       "      <th>United States</th>\n",
       "      <td>26</td>\n",
       "      <td>976</td>\n",
       "      <td>757</td>\n",
       "      <td>666</td>\n",
       "      <td>2399</td>\n",
       "      <td>22</td>\n",
       "      <td>96</td>\n",
       "      <td>102</td>\n",
       "      <td>84</td>\n",
       "      <td>282</td>\n",
       "      <td>48</td>\n",
       "      <td>1072</td>\n",
       "      <td>859</td>\n",
       "      <td>750</td>\n",
       "      <td>2681</td>\n",
       "      <td>USA</td>\n",
       "    </tr>\n",
       "    <tr>\n",
       "      <th>Soviet Union</th>\n",
       "      <td>9</td>\n",
       "      <td>395</td>\n",
       "      <td>319</td>\n",
       "      <td>296</td>\n",
       "      <td>1010</td>\n",
       "      <td>9</td>\n",
       "      <td>78</td>\n",
       "      <td>57</td>\n",
       "      <td>59</td>\n",
       "      <td>194</td>\n",
       "      <td>18</td>\n",
       "      <td>473</td>\n",
       "      <td>376</td>\n",
       "      <td>355</td>\n",
       "      <td>1204</td>\n",
       "      <td>URS</td>\n",
       "    </tr>\n",
       "    <tr>\n",
       "      <th>Great Britain</th>\n",
       "      <td>27</td>\n",
       "      <td>236</td>\n",
       "      <td>272</td>\n",
       "      <td>272</td>\n",
       "      <td>780</td>\n",
       "      <td>22</td>\n",
       "      <td>10</td>\n",
       "      <td>4</td>\n",
       "      <td>12</td>\n",
       "      <td>26</td>\n",
       "      <td>49</td>\n",
       "      <td>246</td>\n",
       "      <td>276</td>\n",
       "      <td>284</td>\n",
       "      <td>806</td>\n",
       "      <td>GBR</td>\n",
       "    </tr>\n",
       "    <tr>\n",
       "      <th>France</th>\n",
       "      <td>27</td>\n",
       "      <td>202</td>\n",
       "      <td>223</td>\n",
       "      <td>246</td>\n",
       "      <td>671</td>\n",
       "      <td>22</td>\n",
       "      <td>31</td>\n",
       "      <td>31</td>\n",
       "      <td>47</td>\n",
       "      <td>109</td>\n",
       "      <td>49</td>\n",
       "      <td>233</td>\n",
       "      <td>254</td>\n",
       "      <td>293</td>\n",
       "      <td>780</td>\n",
       "      <td>FRA</td>\n",
       "    </tr>\n",
       "    <tr>\n",
       "      <th>China</th>\n",
       "      <td>9</td>\n",
       "      <td>201</td>\n",
       "      <td>146</td>\n",
       "      <td>126</td>\n",
       "      <td>473</td>\n",
       "      <td>10</td>\n",
       "      <td>12</td>\n",
       "      <td>22</td>\n",
       "      <td>19</td>\n",
       "      <td>53</td>\n",
       "      <td>19</td>\n",
       "      <td>213</td>\n",
       "      <td>168</td>\n",
       "      <td>145</td>\n",
       "      <td>526</td>\n",
       "      <td>CHN</td>\n",
       "    </tr>\n",
       "  </tbody>\n",
       "</table>\n",
       "</div>"
      ],
      "text/plain": [
       "               ? Summer  Gold  Silver  Bronze  Total  ? Winter  Gold.1  \\\n",
       "United States        26   976     757     666   2399        22      96   \n",
       "Soviet Union          9   395     319     296   1010         9      78   \n",
       "Great Britain        27   236     272     272    780        22      10   \n",
       "France               27   202     223     246    671        22      31   \n",
       "China                 9   201     146     126    473        10      12   \n",
       "\n",
       "               Silver.1  Bronze.1  Total.1  ? Games  Gold.2  Silver.2  \\\n",
       "United States       102        84      282       48    1072       859   \n",
       "Soviet Union         57        59      194       18     473       376   \n",
       "Great Britain         4        12       26       49     246       276   \n",
       "France               31        47      109       49     233       254   \n",
       "China                22        19       53       19     213       168   \n",
       "\n",
       "               Bronze.2  Combined total   ID  \n",
       "United States       750            2681  USA  \n",
       "Soviet Union        355            1204  URS  \n",
       "Great Britain       284             806  GBR  \n",
       "France              293             780  FRA  \n",
       "China               145             526  CHN  "
      ]
     },
     "execution_count": 14,
     "metadata": {},
     "output_type": "execute_result"
    }
   ],
   "source": [
    "df.sort_values(by='Gold', ascending=False).head()"
   ]
  },
  {
   "cell_type": "markdown",
   "metadata": {},
   "source": [
    "### Question 1\n",
    "Which country has won the most gold medals in summer games?\n",
    "\n",
    "*This function should return a single string value.*"
   ]
  },
  {
   "cell_type": "code",
   "execution_count": 23,
   "metadata": {
    "nbgrader": {
     "grade": false,
     "locked": false,
     "solution": false
    },
    "umich_part_id": "001",
    "umich_partlist_id": "001"
   },
   "outputs": [
    {
     "data": {
      "text/plain": [
       "'United States'"
      ]
     },
     "execution_count": 23,
     "metadata": {},
     "output_type": "execute_result"
    }
   ],
   "source": [
    "def answer_one():\n",
    "    drzava = df['Gold'].idxmax()\n",
    "    return drzava\n",
    "answer_one()"
   ]
  },
  {
   "cell_type": "markdown",
   "metadata": {},
   "source": [
    "### Question 2\n",
    "Which country had the biggest difference between their summer and winter gold medal counts?\n",
    "\n",
    "*This function should return a single string value.*"
   ]
  },
  {
   "cell_type": "code",
   "execution_count": 22,
   "metadata": {
    "umich_part_id": "002",
    "umich_partlist_id": "001"
   },
   "outputs": [
    {
     "data": {
      "text/plain": [
       "'United States'"
      ]
     },
     "execution_count": 22,
     "metadata": {},
     "output_type": "execute_result"
    }
   ],
   "source": [
    "def answer_two():\n",
    "    df['razlika'] = df['Gold']-df['Gold.1']\n",
    "    drzava2 = df['razlika'].idxmax()\n",
    "    return drzava2\n",
    "answer_two()"
   ]
  },
  {
   "cell_type": "markdown",
   "metadata": {},
   "source": [
    "### Question 3\n",
    "Which country has the biggest difference between their summer gold medal counts and winter gold medal counts relative to their total gold medal count? \n",
    "\n",
    "$$\\frac{Summer~Gold - Winter~Gold}{Total~Gold}$$\n",
    "\n",
    "Only include countries that have won at least 1 gold in both summer and winter.\n",
    "\n",
    "*This function should return a single string value.*"
   ]
  },
  {
   "cell_type": "code",
   "execution_count": 21,
   "metadata": {
    "umich_part_id": "003",
    "umich_partlist_id": "001"
   },
   "outputs": [
    {
     "data": {
      "text/plain": [
       "'Algeria'"
      ]
     },
     "execution_count": 21,
     "metadata": {},
     "output_type": "execute_result"
    }
   ],
   "source": [
    "def answer_three():\n",
    "    drzava3 = ((df['Gold']-df['Gold.1'])/(df['Gold.2'])).idxmax()\n",
    "    return drzava3\n",
    "answer_three()"
   ]
  },
  {
   "cell_type": "markdown",
   "metadata": {},
   "source": [
    "### Question 4\n",
    "Write a function that creates a Series called \"Points\" which is a weighted value where each gold medal (`Gold.2`) counts for 3 points, silver medals (`Silver.2`) for 2 points, and bronze medals (`Bronze.2`) for 1 point. The function should return only the column (a Series object) which you created, with the country names as indices.\n",
    "\n",
    "*This function should return a Series named `Points` of length 146*"
   ]
  },
  {
   "cell_type": "code",
   "execution_count": 29,
   "metadata": {
    "umich_part_id": "004",
    "umich_partlist_id": "001"
   },
   "outputs": [
    {
     "data": {
      "text/plain": [
       "Afghanistan                         1.000000\n",
       "Algeria                             1.800000\n",
       "Argentina                           1.857143\n",
       "Armenia                             1.333333\n",
       "Australasia                         1.833333\n",
       "Australia                           1.922917\n",
       "Austria                             1.871711\n",
       "Azerbaijan                          1.653846\n",
       "Bahamas                             2.000000\n",
       "Bahrain                             1.000000\n",
       "Barbados                            1.000000\n",
       "Belarus                             1.711111\n",
       "Belgium                             1.877551\n",
       "Bermuda                             1.000000\n",
       "Bohemia                             1.250000\n",
       "Botswana                            2.000000\n",
       "Brazil                              1.703704\n",
       "British West Indies                 1.000000\n",
       "Bulgaria                            1.868182\n",
       "Burundi                             3.000000\n",
       "Cameroon                            2.400000\n",
       "Canada                              1.884187\n",
       "Chile                               1.846154\n",
       "China                               2.129278\n",
       "Colombia                            1.526316\n",
       "Costa Rica                          1.750000\n",
       "Ivory Coast                         2.000000\n",
       "Croatia                             1.970588\n",
       "Cuba                                2.009569\n",
       "Cyprus                              2.000000\n",
       "                                      ...   \n",
       "Spain                               2.015038\n",
       "Sri Lanka                           2.000000\n",
       "Sudan                               2.000000\n",
       "Suriname                            2.000000\n",
       "Sweden                              1.940989\n",
       "Switzerland                         1.950464\n",
       "Syria                               2.000000\n",
       "Chinese Taipei                      1.523810\n",
       "Tajikistan                          1.333333\n",
       "Tanzania                            2.000000\n",
       "Thailand                            1.833333\n",
       "Togo                                1.000000\n",
       "Tonga                               2.000000\n",
       "Trinidad and Tobago                 1.500000\n",
       "Tunisia                             1.900000\n",
       "Turkey                              2.170455\n",
       "Uganda                              2.000000\n",
       "Ukraine                             1.803279\n",
       "United Arab Emirates                3.000000\n",
       "United States                       2.120104\n",
       "Uruguay                             1.600000\n",
       "Uzbekistan                          1.809524\n",
       "Venezuela                           1.500000\n",
       "Vietnam                             2.000000\n",
       "Virgin Islands                      2.000000\n",
       "Yugoslavia                          1.965517\n",
       "Independent Olympic Participants    1.333333\n",
       "Zambia                              1.500000\n",
       "Zimbabwe                            2.250000\n",
       "Mixed team                          2.235294\n",
       "Name: Points, Length: 146, dtype: float64"
      ]
     },
     "execution_count": 29,
     "metadata": {},
     "output_type": "execute_result"
    }
   ],
   "source": [
    "def answer_four():\n",
    "    Points = pd.Series((df['Gold.2']*3 + df['Silver.2']*2 + df['Bronze.2'])/df['Combined total'], index=df.index, \n",
    "                       name='Points')\n",
    "    return Points\n",
    "answer_four()"
   ]
  },
  {
   "cell_type": "code",
   "execution_count": null,
   "metadata": {},
   "outputs": [],
   "source": []
  },
  {
   "cell_type": "code",
   "execution_count": null,
   "metadata": {},
   "outputs": [],
   "source": []
  }
 ],
 "metadata": {
  "anaconda-cloud": {},
  "coursera": {
   "course_slug": "python-data-analysis",
   "graded_item_id": "tHmgx",
   "launcher_item_id": "Um6Bz",
   "part_id": "OQsnr"
  },
  "kernelspec": {
   "display_name": "Python 3",
   "language": "python",
   "name": "python3"
  },
  "language_info": {
   "codemirror_mode": {
    "name": "ipython",
    "version": 3
   },
   "file_extension": ".py",
   "mimetype": "text/x-python",
   "name": "python",
   "nbconvert_exporter": "python",
   "pygments_lexer": "ipython3",
   "version": "3.7.0"
  },
  "umich": {
   "id": "Assignment 2",
   "version": "1.2"
  }
 },
 "nbformat": 4,
 "nbformat_minor": 1
}
