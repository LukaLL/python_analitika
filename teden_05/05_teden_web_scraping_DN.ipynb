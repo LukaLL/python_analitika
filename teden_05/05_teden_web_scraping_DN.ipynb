{
 "cells": [
  {
   "cell_type": "code",
   "execution_count": 1,
   "metadata": {},
   "outputs": [],
   "source": [
    "import numpy as np\n",
    "import pandas as pd\n",
    "import requests\n",
    "import lxml\n",
    "from bs4 import BeautifulSoup"
   ]
  },
  {
   "cell_type": "markdown",
   "metadata": {},
   "source": [
    "# Web Scraping"
   ]
  },
  {
   "cell_type": "markdown",
   "metadata": {},
   "source": [
    "- **Spletna stran:** https://en.wikipedia.org/wiki/List_of_countries_and_dependencies_by_population\n",
    "- **Tabela:** Sovereign states and dependencies by population        "
   ]
  },
  {
   "cell_type": "markdown",
   "metadata": {},
   "source": [
    "### Naloga\n",
    "\n",
    "Tabelo na zgornji strani pretvorite v urejen pandas dataframe, ki vsebuje naslednje stolpce (pozor na ustrezen tip in index):\n",
    "- Rank: (Index) - int\n",
    "- Country name: - object\n",
    "- Population - int\n",
    "- Date - Datetime\n",
    "- % of world population - int\n"
   ]
  },
  {
   "cell_type": "code",
   "execution_count": 89,
   "metadata": {},
   "outputs": [],
   "source": [
    "wp = pd.read_html('https://en.wikipedia.org/wiki/List_of_countries_and_dependencies_by_population', skiprows=1)"
   ]
  },
  {
   "cell_type": "code",
   "execution_count": 90,
   "metadata": {},
   "outputs": [],
   "source": [
    "tabela = wp[0]\n",
    "tabela = tabela.drop(tabela.columns[-1], axis=1)\n",
    "tabela.columns = ['Rank', 'Country name', 'Population', 'Date', '% of world population']"
   ]
  },
  {
   "cell_type": "code",
   "execution_count": 91,
   "metadata": {},
   "outputs": [
    {
     "data": {
      "text/html": [
       "<div>\n",
       "<style scoped>\n",
       "    .dataframe tbody tr th:only-of-type {\n",
       "        vertical-align: middle;\n",
       "    }\n",
       "\n",
       "    .dataframe tbody tr th {\n",
       "        vertical-align: top;\n",
       "    }\n",
       "\n",
       "    .dataframe thead th {\n",
       "        text-align: right;\n",
       "    }\n",
       "</style>\n",
       "<table border=\"1\" class=\"dataframe\">\n",
       "  <thead>\n",
       "    <tr style=\"text-align: right;\">\n",
       "      <th></th>\n",
       "      <th>Rank</th>\n",
       "      <th>Country name</th>\n",
       "      <th>Population</th>\n",
       "      <th>Date</th>\n",
       "      <th>% of world population</th>\n",
       "    </tr>\n",
       "  </thead>\n",
       "  <tbody>\n",
       "    <tr>\n",
       "      <th>0</th>\n",
       "      <td>1</td>\n",
       "      <td>China[Note 2]</td>\n",
       "      <td>1397540000</td>\n",
       "      <td>May 29, 2019</td>\n",
       "      <td>18.1%</td>\n",
       "    </tr>\n",
       "    <tr>\n",
       "      <th>1</th>\n",
       "      <td>2</td>\n",
       "      <td>India[Note 3]</td>\n",
       "      <td>1347800000</td>\n",
       "      <td>May 29, 2019</td>\n",
       "      <td>17.5%</td>\n",
       "    </tr>\n",
       "    <tr>\n",
       "      <th>2</th>\n",
       "      <td>3</td>\n",
       "      <td>United States[Note 4]</td>\n",
       "      <td>329283000</td>\n",
       "      <td>May 29, 2019</td>\n",
       "      <td>4.27%</td>\n",
       "    </tr>\n",
       "    <tr>\n",
       "      <th>3</th>\n",
       "      <td>4</td>\n",
       "      <td>Indonesia</td>\n",
       "      <td>268074600</td>\n",
       "      <td>July 1, 2019</td>\n",
       "      <td>3.48%</td>\n",
       "    </tr>\n",
       "    <tr>\n",
       "      <th>4</th>\n",
       "      <td>5</td>\n",
       "      <td>Brazil</td>\n",
       "      <td>209968000</td>\n",
       "      <td>May 29, 2019</td>\n",
       "      <td>2.72%</td>\n",
       "    </tr>\n",
       "  </tbody>\n",
       "</table>\n",
       "</div>"
      ],
      "text/plain": [
       "  Rank           Country name  Population          Date % of world population\n",
       "0    1          China[Note 2]  1397540000  May 29, 2019                 18.1%\n",
       "1    2          India[Note 3]  1347800000  May 29, 2019                 17.5%\n",
       "2    3  United States[Note 4]   329283000  May 29, 2019                 4.27%\n",
       "3    4              Indonesia   268074600  July 1, 2019                 3.48%\n",
       "4    5                 Brazil   209968000  May 29, 2019                 2.72%"
      ]
     },
     "execution_count": 91,
     "metadata": {},
     "output_type": "execute_result"
    }
   ],
   "source": [
    "tabela.head()"
   ]
  },
  {
   "cell_type": "code",
   "execution_count": 92,
   "metadata": {},
   "outputs": [],
   "source": [
    "#Stolpec z datumi pretovorim v datetime\n",
    "tabela['Date'] = pd.to_datetime(tabela['Date'])"
   ]
  },
  {
   "cell_type": "code",
   "execution_count": 93,
   "metadata": {},
   "outputs": [],
   "source": [
    "#zadnji stolpec, kjer so %, pretvorim v int\n",
    "#ker je treba dati v int (ne float), se stevilo zaokrozi\n",
    "#ce bi pustili kot float, bi bilo dovolj samo to_numeric, brez .astype(int)\n",
    "#ker je int, je veliko stevil enakih 0\n",
    "tabela['% of world population'] = pd.to_numeric(tabela['% of world population'].map(lambda x: x.rstrip('%'))).astype(int)"
   ]
  },
  {
   "cell_type": "code",
   "execution_count": 96,
   "metadata": {},
   "outputs": [],
   "source": [
    "#pretvorim se stolpec Rank v Int\n",
    "#najprej pretvorim s to_numeric, kjer hkrati '-' zamenjam z NaN\n",
    "#zdi se mi smiselno, da vrstice, kjer je NaN napolnim z vrednostmi, zato uporabim ffill, ki jim dodeli pravo mesto\n",
    "#glede na lestvico\n",
    "tabela['Rank'] = pd.to_numeric(tabela['Rank'], errors='coerce').fillna(method='ffill').astype(int)"
   ]
  },
  {
   "cell_type": "code",
   "execution_count": 105,
   "metadata": {},
   "outputs": [],
   "source": [
    "#pobrisem se dopise pri drzavah, ki so v obliki [Note#]\n",
    "tabela['Country name'] = tabela['Country name'].apply(lambda x: x.split('[')[0])"
   ]
  },
  {
   "cell_type": "code",
   "execution_count": 107,
   "metadata": {},
   "outputs": [
    {
     "data": {
      "text/html": [
       "<div>\n",
       "<style scoped>\n",
       "    .dataframe tbody tr th:only-of-type {\n",
       "        vertical-align: middle;\n",
       "    }\n",
       "\n",
       "    .dataframe tbody tr th {\n",
       "        vertical-align: top;\n",
       "    }\n",
       "\n",
       "    .dataframe thead th {\n",
       "        text-align: right;\n",
       "    }\n",
       "</style>\n",
       "<table border=\"1\" class=\"dataframe\">\n",
       "  <thead>\n",
       "    <tr style=\"text-align: right;\">\n",
       "      <th></th>\n",
       "      <th>Rank</th>\n",
       "      <th>Country name</th>\n",
       "      <th>Population</th>\n",
       "      <th>Date</th>\n",
       "      <th>% of world population</th>\n",
       "    </tr>\n",
       "  </thead>\n",
       "  <tbody>\n",
       "    <tr>\n",
       "      <th>0</th>\n",
       "      <td>1</td>\n",
       "      <td>China</td>\n",
       "      <td>1397540000</td>\n",
       "      <td>2019-05-29</td>\n",
       "      <td>18</td>\n",
       "    </tr>\n",
       "    <tr>\n",
       "      <th>1</th>\n",
       "      <td>2</td>\n",
       "      <td>India</td>\n",
       "      <td>1347800000</td>\n",
       "      <td>2019-05-29</td>\n",
       "      <td>17</td>\n",
       "    </tr>\n",
       "    <tr>\n",
       "      <th>2</th>\n",
       "      <td>3</td>\n",
       "      <td>United States</td>\n",
       "      <td>329283000</td>\n",
       "      <td>2019-05-29</td>\n",
       "      <td>4</td>\n",
       "    </tr>\n",
       "    <tr>\n",
       "      <th>3</th>\n",
       "      <td>4</td>\n",
       "      <td>Indonesia</td>\n",
       "      <td>268074600</td>\n",
       "      <td>2019-07-01</td>\n",
       "      <td>3</td>\n",
       "    </tr>\n",
       "    <tr>\n",
       "      <th>4</th>\n",
       "      <td>5</td>\n",
       "      <td>Brazil</td>\n",
       "      <td>209968000</td>\n",
       "      <td>2019-05-29</td>\n",
       "      <td>2</td>\n",
       "    </tr>\n",
       "    <tr>\n",
       "      <th>5</th>\n",
       "      <td>6</td>\n",
       "      <td>Pakistan</td>\n",
       "      <td>204820000</td>\n",
       "      <td>2019-05-29</td>\n",
       "      <td>2</td>\n",
       "    </tr>\n",
       "    <tr>\n",
       "      <th>6</th>\n",
       "      <td>7</td>\n",
       "      <td>Nigeria</td>\n",
       "      <td>200962417</td>\n",
       "      <td>2019-07-01</td>\n",
       "      <td>2</td>\n",
       "    </tr>\n",
       "    <tr>\n",
       "      <th>7</th>\n",
       "      <td>8</td>\n",
       "      <td>Bangladesh</td>\n",
       "      <td>166633000</td>\n",
       "      <td>2019-05-29</td>\n",
       "      <td>2</td>\n",
       "    </tr>\n",
       "    <tr>\n",
       "      <th>8</th>\n",
       "      <td>9</td>\n",
       "      <td>Russia</td>\n",
       "      <td>146793744</td>\n",
       "      <td>2019-01-01</td>\n",
       "      <td>1</td>\n",
       "    </tr>\n",
       "    <tr>\n",
       "      <th>9</th>\n",
       "      <td>10</td>\n",
       "      <td>Mexico</td>\n",
       "      <td>126577691</td>\n",
       "      <td>2019-07-01</td>\n",
       "      <td>1</td>\n",
       "    </tr>\n",
       "  </tbody>\n",
       "</table>\n",
       "</div>"
      ],
      "text/plain": [
       "   Rank   Country name  Population       Date  % of world population\n",
       "0     1          China  1397540000 2019-05-29                     18\n",
       "1     2          India  1347800000 2019-05-29                     17\n",
       "2     3  United States   329283000 2019-05-29                      4\n",
       "3     4      Indonesia   268074600 2019-07-01                      3\n",
       "4     5         Brazil   209968000 2019-05-29                      2\n",
       "5     6       Pakistan   204820000 2019-05-29                      2\n",
       "6     7        Nigeria   200962417 2019-07-01                      2\n",
       "7     8     Bangladesh   166633000 2019-05-29                      2\n",
       "8     9         Russia   146793744 2019-01-01                      1\n",
       "9    10         Mexico   126577691 2019-07-01                      1"
      ]
     },
     "execution_count": 107,
     "metadata": {},
     "output_type": "execute_result"
    }
   ],
   "source": [
    "tabela.head(10)"
   ]
  },
  {
   "cell_type": "code",
   "execution_count": 109,
   "metadata": {},
   "outputs": [
    {
     "name": "stdout",
     "output_type": "stream",
     "text": [
      "<class 'pandas.core.frame.DataFrame'>\n",
      "RangeIndex: 240 entries, 0 to 239\n",
      "Data columns (total 5 columns):\n",
      "Rank                     240 non-null int32\n",
      "Country name             240 non-null object\n",
      "Population               240 non-null int64\n",
      "Date                     240 non-null datetime64[ns]\n",
      "% of world population    240 non-null int32\n",
      "dtypes: datetime64[ns](1), int32(2), int64(1), object(1)\n",
      "memory usage: 6.6+ KB\n"
     ]
    }
   ],
   "source": [
    "tabela.info()"
   ]
  },
  {
   "cell_type": "code",
   "execution_count": 110,
   "metadata": {},
   "outputs": [],
   "source": [
    "#za konec se stolpec 'Rank' nastavim za indeks\n",
    "#sicer niso unikatne vrednosti, ampak tak je polozaj drzav na lestvici\n",
    "#ce bi zelel nastaviti narascajoci unikaten indeks, bi lahko uporabil tabela.reset_index() in tabela.index +=1, da bi se\n",
    "#indeks zacel z 1\n",
    "tabela.set_index('Rank', inplace=True)"
   ]
  }
 ],
 "metadata": {
  "kernelspec": {
   "display_name": "Python 3",
   "language": "python",
   "name": "python3"
  },
  "language_info": {
   "codemirror_mode": {
    "name": "ipython",
    "version": 3
   },
   "file_extension": ".py",
   "mimetype": "text/x-python",
   "name": "python",
   "nbconvert_exporter": "python",
   "pygments_lexer": "ipython3",
   "version": "3.7.0"
  }
 },
 "nbformat": 4,
 "nbformat_minor": 2
}
